{
 "cells": [
  {
   "cell_type": "code",
   "execution_count": 1,
   "metadata": {},
   "outputs": [],
   "source": [
    "import pandas as pd"
   ]
  },
  {
   "cell_type": "code",
   "execution_count": 5,
   "metadata": {},
   "outputs": [],
   "source": [
    "df = pd.read_csv('pmdata/p01/fitbit/calories.csv',\n",
    "                 skiprows=0)"
   ]
  },
  {
   "cell_type": "code",
   "execution_count": 6,
   "metadata": {},
   "outputs": [
    {
     "name": "stdout",
     "output_type": "stream",
     "text": [
      "        Unnamed: 0             dateTime  value\n",
      "0                0  2019-11-01 00:00:00   1.39\n",
      "1                1  2019-11-01 00:01:00   1.39\n",
      "2                2  2019-11-01 00:02:00   1.39\n",
      "3                3  2019-11-01 00:03:00   1.39\n",
      "4                4  2019-11-01 00:04:00   1.39\n",
      "...            ...                  ...    ...\n",
      "218875      218875  2020-03-31 23:55:00   1.38\n",
      "218876      218876  2020-03-31 23:56:00   1.38\n",
      "218877      218877  2020-03-31 23:57:00   1.38\n",
      "218878      218878  2020-03-31 23:58:00   1.52\n",
      "218879      218879  2020-03-31 23:59:00   3.31\n",
      "\n",
      "[218880 rows x 3 columns]\n"
     ]
    }
   ],
   "source": [
    "print(df)"
   ]
  },
  {
   "cell_type": "markdown",
   "metadata": {},
   "source": []
  },
  {
   "cell_type": "code",
   "execution_count": 7,
   "metadata": {},
   "outputs": [],
   "source": [
    "import plotly.express as px"
   ]
  },
  {
   "cell_type": "code",
   "execution_count": 12,
   "metadata": {},
   "outputs": [],
   "source": [
    "#!pip install streamlit"
   ]
  },
  {
   "cell_type": "code",
   "execution_count": 10,
   "metadata": {},
   "outputs": [],
   "source": [
    "import streamlit as st"
   ]
  },
  {
   "cell_type": "code",
   "execution_count": null,
   "metadata": {},
   "outputs": [],
   "source": [
    "st.set_page_config(page_title=\"Fitbit Dashboard\",\n",
    "                   page_icon=':bar_chart:',\n",
    "                   layout='wide')"
   ]
  },
  {
   "cell_type": "code",
   "execution_count": 11,
   "metadata": {},
   "outputs": [
    {
     "name": "stderr",
     "output_type": "stream",
     "text": [
      "2023-09-29 23:49:46.558 \n",
      "  \u001b[33m\u001b[1mWarning:\u001b[0m to view this Streamlit app on a browser, run it with the following\n",
      "  command:\n",
      "\n",
      "    streamlit run /Users/hassan/Library/Python/3.11/lib/python/site-packages/ipykernel_launcher.py [ARGUMENTS]\n"
     ]
    },
    {
     "data": {
      "text/plain": [
       "DeltaGenerator()"
      ]
     },
     "execution_count": 11,
     "metadata": {},
     "output_type": "execute_result"
    }
   ],
   "source": [
    "st.dataframe(df)"
   ]
  },
  {
   "cell_type": "code",
   "execution_count": 27,
   "metadata": {},
   "outputs": [
    {
     "name": "stdout",
     "output_type": "stream",
     "text": [
      "S\n"
     ]
    }
   ],
   "source": [
    "print(\"S\")"
   ]
  },
  {
   "cell_type": "code",
   "execution_count": 30,
   "metadata": {},
   "outputs": [
    {
     "data": {
      "text/html": [
       "<div>\n",
       "<style scoped>\n",
       "    .dataframe tbody tr th:only-of-type {\n",
       "        vertical-align: middle;\n",
       "    }\n",
       "\n",
       "    .dataframe tbody tr th {\n",
       "        vertical-align: top;\n",
       "    }\n",
       "\n",
       "    .dataframe thead th {\n",
       "        text-align: right;\n",
       "    }\n",
       "</style>\n",
       "<table border=\"1\" class=\"dataframe\">\n",
       "  <thead>\n",
       "    <tr style=\"text-align: right;\">\n",
       "      <th></th>\n",
       "      <th>Unnamed: 0</th>\n",
       "      <th>dateTime</th>\n",
       "      <th>value</th>\n",
       "    </tr>\n",
       "  </thead>\n",
       "  <tbody>\n",
       "    <tr>\n",
       "      <th>0</th>\n",
       "      <td>0</td>\n",
       "      <td>2019-11-01 00:00:00</td>\n",
       "      <td>1.39</td>\n",
       "    </tr>\n",
       "    <tr>\n",
       "      <th>1</th>\n",
       "      <td>1</td>\n",
       "      <td>2019-11-01 00:01:00</td>\n",
       "      <td>1.39</td>\n",
       "    </tr>\n",
       "    <tr>\n",
       "      <th>2</th>\n",
       "      <td>2</td>\n",
       "      <td>2019-11-01 00:02:00</td>\n",
       "      <td>1.39</td>\n",
       "    </tr>\n",
       "    <tr>\n",
       "      <th>3</th>\n",
       "      <td>3</td>\n",
       "      <td>2019-11-01 00:03:00</td>\n",
       "      <td>1.39</td>\n",
       "    </tr>\n",
       "    <tr>\n",
       "      <th>4</th>\n",
       "      <td>4</td>\n",
       "      <td>2019-11-01 00:04:00</td>\n",
       "      <td>1.39</td>\n",
       "    </tr>\n",
       "    <tr>\n",
       "      <th>...</th>\n",
       "      <td>...</td>\n",
       "      <td>...</td>\n",
       "      <td>...</td>\n",
       "    </tr>\n",
       "    <tr>\n",
       "      <th>218875</th>\n",
       "      <td>218875</td>\n",
       "      <td>2020-03-31 23:55:00</td>\n",
       "      <td>1.38</td>\n",
       "    </tr>\n",
       "    <tr>\n",
       "      <th>218876</th>\n",
       "      <td>218876</td>\n",
       "      <td>2020-03-31 23:56:00</td>\n",
       "      <td>1.38</td>\n",
       "    </tr>\n",
       "    <tr>\n",
       "      <th>218877</th>\n",
       "      <td>218877</td>\n",
       "      <td>2020-03-31 23:57:00</td>\n",
       "      <td>1.38</td>\n",
       "    </tr>\n",
       "    <tr>\n",
       "      <th>218878</th>\n",
       "      <td>218878</td>\n",
       "      <td>2020-03-31 23:58:00</td>\n",
       "      <td>1.52</td>\n",
       "    </tr>\n",
       "    <tr>\n",
       "      <th>218879</th>\n",
       "      <td>218879</td>\n",
       "      <td>2020-03-31 23:59:00</td>\n",
       "      <td>3.31</td>\n",
       "    </tr>\n",
       "  </tbody>\n",
       "</table>\n",
       "<p>218880 rows × 3 columns</p>\n",
       "</div>"
      ],
      "text/plain": [
       "        Unnamed: 0             dateTime  value\n",
       "0                0  2019-11-01 00:00:00   1.39\n",
       "1                1  2019-11-01 00:01:00   1.39\n",
       "2                2  2019-11-01 00:02:00   1.39\n",
       "3                3  2019-11-01 00:03:00   1.39\n",
       "4                4  2019-11-01 00:04:00   1.39\n",
       "...            ...                  ...    ...\n",
       "218875      218875  2020-03-31 23:55:00   1.38\n",
       "218876      218876  2020-03-31 23:56:00   1.38\n",
       "218877      218877  2020-03-31 23:57:00   1.38\n",
       "218878      218878  2020-03-31 23:58:00   1.52\n",
       "218879      218879  2020-03-31 23:59:00   3.31\n",
       "\n",
       "[218880 rows x 3 columns]"
      ]
     },
     "execution_count": 30,
     "metadata": {},
     "output_type": "execute_result"
    }
   ],
   "source": [
    "df"
   ]
  },
  {
   "cell_type": "code",
   "execution_count": 48,
   "metadata": {},
   "outputs": [],
   "source": [
    "date=pd.to_datetime(df['dateTime'], utc=False).dt.date\n",
    "df[\"date\"]=date"
   ]
  },
  {
   "cell_type": "code",
   "execution_count": null,
   "metadata": {},
   "outputs": [],
   "source": [
    "\n",
    "st.sidebar.header('please Filter Data Here')\n",
    "\n",
    "Date= st.sidebar.multiselect(\n",
    "'Select The Date',\n",
    "options=date.unique(),\n",
    "default=date.unique()   \n",
    ")"
   ]
  },
  {
   "cell_type": "code",
   "execution_count": 47,
   "metadata": {},
   "outputs": [],
   "source": [
    "time=pd.to_datetime(df['dateTime'], utc=False).dt.time\n",
    "df[\"time\"]=time"
   ]
  },
  {
   "cell_type": "code",
   "execution_count": 41,
   "metadata": {},
   "outputs": [],
   "source": [
    "\n",
    "st.sidebar.header('please Filter Data Here')\n",
    "\n",
    "Time= st.sidebar.multiselect(\n",
    "'Select The Time',\n",
    "options=time.unique(),\n",
    "default=time.unique()   \n",
    ")"
   ]
  },
  {
   "cell_type": "code",
   "execution_count": 50,
   "metadata": {},
   "outputs": [],
   "source": [
    "hour=pd.to_datetime(df['dateTime'], utc=False).dt.hour\n",
    "df[\"hour\"]= hour\n"
   ]
  },
  {
   "cell_type": "code",
   "execution_count": 43,
   "metadata": {},
   "outputs": [
    {
     "data": {
      "text/plain": [
       "0          0\n",
       "1          0\n",
       "2          0\n",
       "3          0\n",
       "4          0\n",
       "          ..\n",
       "218875    23\n",
       "218876    23\n",
       "218877    23\n",
       "218878    23\n",
       "218879    23\n",
       "Name: dateTime, Length: 218880, dtype: int32"
      ]
     },
     "execution_count": 43,
     "metadata": {},
     "output_type": "execute_result"
    }
   ],
   "source": [
    "\n",
    "Hour= st.sidebar.multiselect(\n",
    "'Select The Hour',\n",
    "options=hour.unique(),\n",
    "default=hour.unique()   \n",
    ")"
   ]
  },
  {
   "cell_type": "code",
   "execution_count": 46,
   "metadata": {},
   "outputs": [],
   "source": []
  },
  {
   "cell_type": "code",
   "execution_count": null,
   "metadata": {},
   "outputs": [],
   "source": [
    "df_selection= df.query(\n",
    "\n",
    "    \"hour== @Hour & time==@Time\"\n",
    ")"
   ]
  },
  {
   "cell_type": "code",
   "execution_count": null,
   "metadata": {},
   "outputs": [],
   "source": [
    "st.dataframe(df_selection)"
   ]
  },
  {
   "cell_type": "code",
   "execution_count": 53,
   "metadata": {},
   "outputs": [
    {
     "name": "stdout",
     "output_type": "stream",
     "text": [
      "FitbitConformalPredictionExplanation.pdf\n",
      "app.py\n",
      "app2.py\n",
      "dash copy.ipynb\n",
      "dash.ipynb\n",
      "\u001b[1m\u001b[36mdata\u001b[m\u001b[m\n",
      "exam2.ipynb\n",
      "exam2_transform.ipynb\n",
      "exam2_v2.ipynb\n",
      "\u001b[1m\u001b[36mexport\u001b[m\u001b[m\n",
      "\u001b[1m\u001b[36mfitbit\u001b[m\u001b[m\n",
      "\u001b[1m\u001b[36mmodels\u001b[m\u001b[m\n",
      "\u001b[1m\u001b[36mpmdata\u001b[m\u001b[m\n",
      "pmdata.zip\n"
     ]
    }
   ],
   "source": [
    "!ls"
   ]
  },
  {
   "cell_type": "code",
   "execution_count": 54,
   "metadata": {},
   "outputs": [
    {
     "data": {
      "text/plain": [
       "'/Users/hassan/Desktop/Study/BDS2/as2'"
      ]
     },
     "execution_count": 54,
     "metadata": {},
     "output_type": "execute_result"
    }
   ],
   "source": [
    "pwd()"
   ]
  },
  {
   "cell_type": "code",
   "execution_count": 57,
   "metadata": {},
   "outputs": [
    {
     "data": {
      "text/html": [
       "<div>\n",
       "<style scoped>\n",
       "    .dataframe tbody tr th:only-of-type {\n",
       "        vertical-align: middle;\n",
       "    }\n",
       "\n",
       "    .dataframe tbody tr th {\n",
       "        vertical-align: top;\n",
       "    }\n",
       "\n",
       "    .dataframe thead th {\n",
       "        text-align: right;\n",
       "    }\n",
       "</style>\n",
       "<table border=\"1\" class=\"dataframe\">\n",
       "  <thead>\n",
       "    <tr style=\"text-align: right;\">\n",
       "      <th></th>\n",
       "      <th>Unnamed: 0</th>\n",
       "      <th>dateTime</th>\n",
       "      <th>value</th>\n",
       "      <th>participants</th>\n",
       "    </tr>\n",
       "  </thead>\n",
       "  <tbody>\n",
       "    <tr>\n",
       "      <th>0</th>\n",
       "      <td>0</td>\n",
       "      <td>2019-11-05 00:00:00</td>\n",
       "      <td>1.15</td>\n",
       "      <td>p07</td>\n",
       "    </tr>\n",
       "    <tr>\n",
       "      <th>1</th>\n",
       "      <td>1</td>\n",
       "      <td>2019-11-05 00:01:00</td>\n",
       "      <td>1.15</td>\n",
       "      <td>p07</td>\n",
       "    </tr>\n",
       "    <tr>\n",
       "      <th>2</th>\n",
       "      <td>2</td>\n",
       "      <td>2019-11-05 00:02:00</td>\n",
       "      <td>1.15</td>\n",
       "      <td>p07</td>\n",
       "    </tr>\n",
       "    <tr>\n",
       "      <th>3</th>\n",
       "      <td>3</td>\n",
       "      <td>2019-11-05 00:03:00</td>\n",
       "      <td>1.15</td>\n",
       "      <td>p07</td>\n",
       "    </tr>\n",
       "    <tr>\n",
       "      <th>4</th>\n",
       "      <td>4</td>\n",
       "      <td>2019-11-05 00:04:00</td>\n",
       "      <td>1.15</td>\n",
       "      <td>p07</td>\n",
       "    </tr>\n",
       "    <tr>\n",
       "      <th>...</th>\n",
       "      <td>...</td>\n",
       "      <td>...</td>\n",
       "      <td>...</td>\n",
       "      <td>...</td>\n",
       "    </tr>\n",
       "    <tr>\n",
       "      <th>212811</th>\n",
       "      <td>212811</td>\n",
       "      <td>2020-03-31 18:51:00</td>\n",
       "      <td>1.15</td>\n",
       "      <td>p07</td>\n",
       "    </tr>\n",
       "    <tr>\n",
       "      <th>212812</th>\n",
       "      <td>212812</td>\n",
       "      <td>2020-03-31 18:52:00</td>\n",
       "      <td>1.15</td>\n",
       "      <td>p07</td>\n",
       "    </tr>\n",
       "    <tr>\n",
       "      <th>212813</th>\n",
       "      <td>212813</td>\n",
       "      <td>2020-03-31 18:53:00</td>\n",
       "      <td>1.15</td>\n",
       "      <td>p07</td>\n",
       "    </tr>\n",
       "    <tr>\n",
       "      <th>212814</th>\n",
       "      <td>212814</td>\n",
       "      <td>2020-03-31 18:54:00</td>\n",
       "      <td>1.15</td>\n",
       "      <td>p07</td>\n",
       "    </tr>\n",
       "    <tr>\n",
       "      <th>212815</th>\n",
       "      <td>212815</td>\n",
       "      <td>2020-03-31 18:55:00</td>\n",
       "      <td>1.15</td>\n",
       "      <td>p07</td>\n",
       "    </tr>\n",
       "  </tbody>\n",
       "</table>\n",
       "<p>212816 rows × 4 columns</p>\n",
       "</div>"
      ],
      "text/plain": [
       "        Unnamed: 0             dateTime  value participants\n",
       "0                0  2019-11-05 00:00:00   1.15          p07\n",
       "1                1  2019-11-05 00:01:00   1.15          p07\n",
       "2                2  2019-11-05 00:02:00   1.15          p07\n",
       "3                3  2019-11-05 00:03:00   1.15          p07\n",
       "4                4  2019-11-05 00:04:00   1.15          p07\n",
       "...            ...                  ...    ...          ...\n",
       "212811      212811  2020-03-31 18:51:00   1.15          p07\n",
       "212812      212812  2020-03-31 18:52:00   1.15          p07\n",
       "212813      212813  2020-03-31 18:53:00   1.15          p07\n",
       "212814      212814  2020-03-31 18:54:00   1.15          p07\n",
       "212815      212815  2020-03-31 18:55:00   1.15          p07\n",
       "\n",
       "[212816 rows x 4 columns]"
      ]
     },
     "execution_count": 57,
     "metadata": {},
     "output_type": "execute_result"
    }
   ],
   "source": [
    "df"
   ]
  },
  {
   "cell_type": "code",
   "execution_count": 58,
   "metadata": {},
   "outputs": [
    {
     "data": {
      "text/plain": [
       "Index(['Unnamed: 0', 'dateTime', 'value', 'participants'], dtype='object')"
      ]
     },
     "execution_count": 58,
     "metadata": {},
     "output_type": "execute_result"
    }
   ],
   "source": [
    "df.columns"
   ]
  },
  {
   "cell_type": "code",
   "execution_count": null,
   "metadata": {},
   "outputs": [],
   "source": []
  }
 ],
 "metadata": {
  "kernelspec": {
   "display_name": "Python 3",
   "language": "python",
   "name": "python3"
  },
  "language_info": {
   "codemirror_mode": {
    "name": "ipython",
    "version": 3
   },
   "file_extension": ".py",
   "mimetype": "text/x-python",
   "name": "python",
   "nbconvert_exporter": "python",
   "pygments_lexer": "ipython3",
   "version": "3.11.5"
  },
  "orig_nbformat": 4
 },
 "nbformat": 4,
 "nbformat_minor": 2
}
