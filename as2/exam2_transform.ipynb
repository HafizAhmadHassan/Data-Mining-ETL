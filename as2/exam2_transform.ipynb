{
 "cells": [
  {
   "cell_type": "markdown",
   "metadata": {},
   "source": []
  },
  {
   "cell_type": "markdown",
   "metadata": {},
   "source": [
    "# Data Preperation"
   ]
  },
  {
   "cell_type": "markdown",
   "metadata": {},
   "source": [
    "## Import Libraries"
   ]
  },
  {
   "cell_type": "code",
   "execution_count": 72,
   "metadata": {},
   "outputs": [],
   "source": [
    "import numpy as np\n",
    "import os\n",
    "import pandas as pd\n",
    "import json"
   ]
  },
  {
   "cell_type": "markdown",
   "metadata": {},
   "source": [
    "## Get Participation List"
   ]
  },
  {
   "cell_type": "code",
   "execution_count": 73,
   "metadata": {},
   "outputs": [],
   "source": [
    "\n",
    "\n",
    "def get_pl(path_xls):\n",
    "    \"\"\"\n",
    "    this is output\n",
    "    ['p01',\n",
    "    'p02',\n",
    "    'p03',\n",
    "    'p04',\n",
    "    'p05',\n",
    "    'p06',\n",
    "    'p07',\n",
    "    'p08',\n",
    "    'p09',\n",
    "    'p10',\n",
    "    'p11',\n",
    "    'p12',\n",
    "    'p13',\n",
    "    'p14',\n",
    "    'p15',\n",
    "    'p16']\n",
    "    \"\"\"\n",
    "    dfs = pd.read_excel(path_xls, sheet_name=None)\n",
    "    return list(dfs[\"Sheet1\"][\"Unnamed: 0\"])[1:]\n"
   ]
  },
  {
   "cell_type": "markdown",
   "metadata": {},
   "source": [
    "# JSON TO CSV"
   ]
  },
  {
   "cell_type": "code",
   "execution_count": null,
   "metadata": {},
   "outputs": [],
   "source": [
    "\n",
    "def json_to_csv():\n",
    "    for pars in get_pl(\"pmdata/participant-overview.xlsx\"):\n",
    "        print(\"participant \",pars)\n",
    "        for files in os.listdir(f'pmdata/{pars}/fitbit/'):\n",
    "            if files!='sleep_score.csv':\n",
    "                print(\"File Name\", files)\n",
    "                with open(f'pmdata/{pars}/fitbit/{files}') as f:\n",
    "                    data = json.load(f)\n",
    "                df = pd.json_normalize(data)\n",
    "                print(df.head())\n",
    "                df.to_csv(f'pmdata/{pars}/fitbit/{files[:-4]}csv')"
   ]
  },
  {
   "cell_type": "code",
   "execution_count": null,
   "metadata": {},
   "outputs": [],
   "source": [
    "json_to_csv()"
   ]
  },
  {
   "cell_type": "markdown",
   "metadata": {},
   "source": [
    "## Train and Test CSV Files"
   ]
  },
  {
   "cell_type": "code",
   "execution_count": 74,
   "metadata": {},
   "outputs": [],
   "source": [
    "import pandas as pd"
   ]
  },
  {
   "cell_type": "markdown",
   "metadata": {},
   "source": [
    "## Heart rate Calculation"
   ]
  },
  {
   "cell_type": "code",
   "execution_count": 76,
   "metadata": {},
   "outputs": [
    {
     "name": "stdout",
     "output_type": "stream",
     "text": [
      "                     Unnamed: 0  value.bpm  value.confidence\n",
      "dateTime                                                    \n",
      "2019-11-01 00:00:00         4.0  52.777778          3.000000\n",
      "2019-11-01 00:01:00        12.5  54.000000          3.000000\n",
      "2019-11-01 00:02:00        20.5  52.500000          3.000000\n",
      "2019-11-01 00:03:00        30.0  53.636364          3.000000\n",
      "2019-11-01 00:04:00        40.0  53.555556          2.888889\n"
     ]
    }
   ],
   "source": [
    "df=pd.read_csv(f'pmdata/p01/fitbit/heart_rate.csv')\n",
    "df['dateTime'] = pd.to_datetime(df['dateTime']) #if not already as datetime object\n",
    "grouped = df.groupby(pd.Grouper(key='dateTime', axis=0, freq='T')).mean()\n",
    "print(grouped.head())"
   ]
  },
  {
   "cell_type": "code",
   "execution_count": 77,
   "metadata": {},
   "outputs": [
    {
     "data": {
      "text/html": [
       "<div>\n",
       "<style scoped>\n",
       "    .dataframe tbody tr th:only-of-type {\n",
       "        vertical-align: middle;\n",
       "    }\n",
       "\n",
       "    .dataframe tbody tr th {\n",
       "        vertical-align: top;\n",
       "    }\n",
       "\n",
       "    .dataframe thead th {\n",
       "        text-align: right;\n",
       "    }\n",
       "</style>\n",
       "<table border=\"1\" class=\"dataframe\">\n",
       "  <thead>\n",
       "    <tr style=\"text-align: right;\">\n",
       "      <th></th>\n",
       "      <th>Unnamed: 0</th>\n",
       "      <th>value.bpm</th>\n",
       "      <th>value.confidence</th>\n",
       "    </tr>\n",
       "    <tr>\n",
       "      <th>dateTime</th>\n",
       "      <th></th>\n",
       "      <th></th>\n",
       "      <th></th>\n",
       "    </tr>\n",
       "  </thead>\n",
       "  <tbody>\n",
       "    <tr>\n",
       "      <th>2019-11-01 00:00:00</th>\n",
       "      <td>4.0</td>\n",
       "      <td>52.777778</td>\n",
       "      <td>3.000000</td>\n",
       "    </tr>\n",
       "    <tr>\n",
       "      <th>2019-11-01 00:01:00</th>\n",
       "      <td>12.5</td>\n",
       "      <td>54.000000</td>\n",
       "      <td>3.000000</td>\n",
       "    </tr>\n",
       "    <tr>\n",
       "      <th>2019-11-01 00:02:00</th>\n",
       "      <td>20.5</td>\n",
       "      <td>52.500000</td>\n",
       "      <td>3.000000</td>\n",
       "    </tr>\n",
       "    <tr>\n",
       "      <th>2019-11-01 00:03:00</th>\n",
       "      <td>30.0</td>\n",
       "      <td>53.636364</td>\n",
       "      <td>3.000000</td>\n",
       "    </tr>\n",
       "    <tr>\n",
       "      <th>2019-11-01 00:04:00</th>\n",
       "      <td>40.0</td>\n",
       "      <td>53.555556</td>\n",
       "      <td>2.888889</td>\n",
       "    </tr>\n",
       "    <tr>\n",
       "      <th>...</th>\n",
       "      <td>...</td>\n",
       "      <td>...</td>\n",
       "      <td>...</td>\n",
       "    </tr>\n",
       "    <tr>\n",
       "      <th>2020-03-31 23:55:00</th>\n",
       "      <td>1573136.5</td>\n",
       "      <td>55.000000</td>\n",
       "      <td>3.000000</td>\n",
       "    </tr>\n",
       "    <tr>\n",
       "      <th>2020-03-31 23:56:00</th>\n",
       "      <td>1573142.0</td>\n",
       "      <td>54.800000</td>\n",
       "      <td>3.000000</td>\n",
       "    </tr>\n",
       "    <tr>\n",
       "      <th>2020-03-31 23:57:00</th>\n",
       "      <td>1573147.5</td>\n",
       "      <td>56.000000</td>\n",
       "      <td>3.000000</td>\n",
       "    </tr>\n",
       "    <tr>\n",
       "      <th>2020-03-31 23:58:00</th>\n",
       "      <td>1573154.5</td>\n",
       "      <td>55.125000</td>\n",
       "      <td>3.000000</td>\n",
       "    </tr>\n",
       "    <tr>\n",
       "      <th>2020-03-31 23:59:00</th>\n",
       "      <td>1573161.5</td>\n",
       "      <td>55.500000</td>\n",
       "      <td>3.000000</td>\n",
       "    </tr>\n",
       "  </tbody>\n",
       "</table>\n",
       "<p>218880 rows × 3 columns</p>\n",
       "</div>"
      ],
      "text/plain": [
       "                     Unnamed: 0  value.bpm  value.confidence\n",
       "dateTime                                                    \n",
       "2019-11-01 00:00:00         4.0  52.777778          3.000000\n",
       "2019-11-01 00:01:00        12.5  54.000000          3.000000\n",
       "2019-11-01 00:02:00        20.5  52.500000          3.000000\n",
       "2019-11-01 00:03:00        30.0  53.636364          3.000000\n",
       "2019-11-01 00:04:00        40.0  53.555556          2.888889\n",
       "...                         ...        ...               ...\n",
       "2020-03-31 23:55:00   1573136.5  55.000000          3.000000\n",
       "2020-03-31 23:56:00   1573142.0  54.800000          3.000000\n",
       "2020-03-31 23:57:00   1573147.5  56.000000          3.000000\n",
       "2020-03-31 23:58:00   1573154.5  55.125000          3.000000\n",
       "2020-03-31 23:59:00   1573161.5  55.500000          3.000000\n",
       "\n",
       "[218880 rows x 3 columns]"
      ]
     },
     "metadata": {},
     "output_type": "display_data"
    }
   ],
   "source": [
    "display(grouped)"
   ]
  },
  {
   "cell_type": "markdown",
   "metadata": {},
   "source": [
    "## Sample Data Experiment\n",
    "\n",
    "Aggregating with 5 minutes"
   ]
  },
  {
   "cell_type": "code",
   "execution_count": null,
   "metadata": {},
   "outputs": [],
   "source": [
    "import numpy as np"
   ]
  },
  {
   "cell_type": "code",
   "execution_count": 78,
   "metadata": {},
   "outputs": [
    {
     "data": {
      "text/html": [
       "<div>\n",
       "<style scoped>\n",
       "    .dataframe tbody tr th:only-of-type {\n",
       "        vertical-align: middle;\n",
       "    }\n",
       "\n",
       "    .dataframe tbody tr th {\n",
       "        vertical-align: top;\n",
       "    }\n",
       "\n",
       "    .dataframe thead th {\n",
       "        text-align: right;\n",
       "    }\n",
       "</style>\n",
       "<table border=\"1\" class=\"dataframe\">\n",
       "  <thead>\n",
       "    <tr style=\"text-align: right;\">\n",
       "      <th></th>\n",
       "      <th>id</th>\n",
       "      <th>val</th>\n",
       "    </tr>\n",
       "  </thead>\n",
       "  <tbody>\n",
       "    <tr>\n",
       "      <th>2013-01-01 00:00:00</th>\n",
       "      <td>22</td>\n",
       "      <td>14448</td>\n",
       "    </tr>\n",
       "    <tr>\n",
       "      <th>2013-01-01 00:01:00</th>\n",
       "      <td>29</td>\n",
       "      <td>14444</td>\n",
       "    </tr>\n",
       "    <tr>\n",
       "      <th>2013-01-01 00:02:00</th>\n",
       "      <td>21</td>\n",
       "      <td>14447</td>\n",
       "    </tr>\n",
       "    <tr>\n",
       "      <th>2013-01-01 00:03:00</th>\n",
       "      <td>29</td>\n",
       "      <td>14444</td>\n",
       "    </tr>\n",
       "    <tr>\n",
       "      <th>2013-01-01 00:04:00</th>\n",
       "      <td>24</td>\n",
       "      <td>14448</td>\n",
       "    </tr>\n",
       "  </tbody>\n",
       "</table>\n",
       "</div>"
      ],
      "text/plain": [
       "                     id    val\n",
       "2013-01-01 00:00:00  22  14448\n",
       "2013-01-01 00:01:00  29  14444\n",
       "2013-01-01 00:02:00  21  14447\n",
       "2013-01-01 00:03:00  29  14444\n",
       "2013-01-01 00:04:00  24  14448"
      ]
     },
     "execution_count": 78,
     "metadata": {},
     "output_type": "execute_result"
    }
   ],
   "source": [
    "#Get some data\n",
    "index = pd.date_range(start='2013-01-01 00:00', end='2013-01-31 00:00', freq='min')\n",
    "a = np.random.randint(20, high=30, size=(len(index),1))\n",
    "b = np.random.randint(14440, high=14449, size=(len(index),1))\n",
    "df = pd.DataFrame(np.concatenate((a,b), axis=1), index=index, columns=['id','val'])\n",
    "df.head()\n",
    "\n",
    "\n"
   ]
  },
  {
   "cell_type": "code",
   "execution_count": 79,
   "metadata": {},
   "outputs": [
    {
     "data": {
      "text/html": [
       "<div>\n",
       "<style scoped>\n",
       "    .dataframe tbody tr th:only-of-type {\n",
       "        vertical-align: middle;\n",
       "    }\n",
       "\n",
       "    .dataframe tbody tr th {\n",
       "        vertical-align: top;\n",
       "    }\n",
       "\n",
       "    .dataframe thead th {\n",
       "        text-align: right;\n",
       "    }\n",
       "</style>\n",
       "<table border=\"1\" class=\"dataframe\">\n",
       "  <thead>\n",
       "    <tr style=\"text-align: right;\">\n",
       "      <th></th>\n",
       "      <th>id</th>\n",
       "      <th>val</th>\n",
       "    </tr>\n",
       "  </thead>\n",
       "  <tbody>\n",
       "    <tr>\n",
       "      <th>2013-01-01 00:00:00</th>\n",
       "      <td>25.0</td>\n",
       "      <td>14446.2</td>\n",
       "    </tr>\n",
       "    <tr>\n",
       "      <th>2013-01-01 00:05:00</th>\n",
       "      <td>25.6</td>\n",
       "      <td>14445.6</td>\n",
       "    </tr>\n",
       "    <tr>\n",
       "      <th>2013-01-01 00:10:00</th>\n",
       "      <td>24.0</td>\n",
       "      <td>14443.2</td>\n",
       "    </tr>\n",
       "    <tr>\n",
       "      <th>2013-01-01 00:15:00</th>\n",
       "      <td>24.2</td>\n",
       "      <td>14443.0</td>\n",
       "    </tr>\n",
       "    <tr>\n",
       "      <th>2013-01-01 00:20:00</th>\n",
       "      <td>25.6</td>\n",
       "      <td>14445.2</td>\n",
       "    </tr>\n",
       "    <tr>\n",
       "      <th>...</th>\n",
       "      <td>...</td>\n",
       "      <td>...</td>\n",
       "    </tr>\n",
       "    <tr>\n",
       "      <th>2013-01-30 23:40:00</th>\n",
       "      <td>26.6</td>\n",
       "      <td>14442.2</td>\n",
       "    </tr>\n",
       "    <tr>\n",
       "      <th>2013-01-30 23:45:00</th>\n",
       "      <td>24.4</td>\n",
       "      <td>14443.4</td>\n",
       "    </tr>\n",
       "    <tr>\n",
       "      <th>2013-01-30 23:50:00</th>\n",
       "      <td>24.2</td>\n",
       "      <td>14442.8</td>\n",
       "    </tr>\n",
       "    <tr>\n",
       "      <th>2013-01-30 23:55:00</th>\n",
       "      <td>24.2</td>\n",
       "      <td>14443.8</td>\n",
       "    </tr>\n",
       "    <tr>\n",
       "      <th>2013-01-31 00:00:00</th>\n",
       "      <td>NaN</td>\n",
       "      <td>NaN</td>\n",
       "    </tr>\n",
       "  </tbody>\n",
       "</table>\n",
       "<p>8641 rows × 2 columns</p>\n",
       "</div>"
      ],
      "text/plain": [
       "                       id      val\n",
       "2013-01-01 00:00:00  25.0  14446.2\n",
       "2013-01-01 00:05:00  25.6  14445.6\n",
       "2013-01-01 00:10:00  24.0  14443.2\n",
       "2013-01-01 00:15:00  24.2  14443.0\n",
       "2013-01-01 00:20:00  25.6  14445.2\n",
       "...                   ...      ...\n",
       "2013-01-30 23:40:00  26.6  14442.2\n",
       "2013-01-30 23:45:00  24.4  14443.4\n",
       "2013-01-30 23:50:00  24.2  14442.8\n",
       "2013-01-30 23:55:00  24.2  14443.8\n",
       "2013-01-31 00:00:00   NaN      NaN\n",
       "\n",
       "[8641 rows x 2 columns]"
      ]
     },
     "execution_count": 79,
     "metadata": {},
     "output_type": "execute_result"
    }
   ],
   "source": [
    "#Define function for variance\n",
    "import numpy as np\n",
    "def pyfun(X):\n",
    "\n",
    "    if X.shape[0] <= 1:\n",
    "        result = np.nan\n",
    "\n",
    "    else:    \n",
    "        total = 0\n",
    "        #print(X.shape)\n",
    "        for x in X:\n",
    "            #print(x)\n",
    "            total = total + x\n",
    "        mean = float(total) / X.shape[0]\n",
    "        \"\"\" \n",
    "        total = 0\n",
    "        for x in X:\n",
    "            total = total + (mean-x)**2\n",
    "        result = float(total) / (X.shape[0]-1)        \n",
    "        \"\"\"\n",
    "\n",
    "        result=mean\n",
    "        \n",
    "    return result\n",
    "\n",
    "#Try it out\n",
    "df.resample('5min').agg(pyfun)"
   ]
  },
  {
   "cell_type": "markdown",
   "metadata": {},
   "source": [
    "## Applying Same Technique to P01\n"
   ]
  },
  {
   "cell_type": "code",
   "execution_count": 80,
   "metadata": {},
   "outputs": [
    {
     "data": {
      "text/html": [
       "<div>\n",
       "<style scoped>\n",
       "    .dataframe tbody tr th:only-of-type {\n",
       "        vertical-align: middle;\n",
       "    }\n",
       "\n",
       "    .dataframe tbody tr th {\n",
       "        vertical-align: top;\n",
       "    }\n",
       "\n",
       "    .dataframe thead th {\n",
       "        text-align: right;\n",
       "    }\n",
       "</style>\n",
       "<table border=\"1\" class=\"dataframe\">\n",
       "  <thead>\n",
       "    <tr style=\"text-align: right;\">\n",
       "      <th></th>\n",
       "      <th>Unnamed: 0</th>\n",
       "      <th>dateTime</th>\n",
       "      <th>value.bpm</th>\n",
       "      <th>value.confidence</th>\n",
       "    </tr>\n",
       "  </thead>\n",
       "  <tbody>\n",
       "    <tr>\n",
       "      <th>0</th>\n",
       "      <td>0</td>\n",
       "      <td>2019-11-01 00:00:05</td>\n",
       "      <td>54</td>\n",
       "      <td>3</td>\n",
       "    </tr>\n",
       "    <tr>\n",
       "      <th>1</th>\n",
       "      <td>1</td>\n",
       "      <td>2019-11-01 00:00:10</td>\n",
       "      <td>52</td>\n",
       "      <td>3</td>\n",
       "    </tr>\n",
       "    <tr>\n",
       "      <th>2</th>\n",
       "      <td>2</td>\n",
       "      <td>2019-11-01 00:00:20</td>\n",
       "      <td>51</td>\n",
       "      <td>3</td>\n",
       "    </tr>\n",
       "    <tr>\n",
       "      <th>3</th>\n",
       "      <td>3</td>\n",
       "      <td>2019-11-01 00:00:25</td>\n",
       "      <td>52</td>\n",
       "      <td>3</td>\n",
       "    </tr>\n",
       "    <tr>\n",
       "      <th>4</th>\n",
       "      <td>4</td>\n",
       "      <td>2019-11-01 00:00:30</td>\n",
       "      <td>51</td>\n",
       "      <td>3</td>\n",
       "    </tr>\n",
       "  </tbody>\n",
       "</table>\n",
       "</div>"
      ],
      "text/plain": [
       "   Unnamed: 0             dateTime  value.bpm  value.confidence\n",
       "0           0  2019-11-01 00:00:05         54                 3\n",
       "1           1  2019-11-01 00:00:10         52                 3\n",
       "2           2  2019-11-01 00:00:20         51                 3\n",
       "3           3  2019-11-01 00:00:25         52                 3\n",
       "4           4  2019-11-01 00:00:30         51                 3"
      ]
     },
     "execution_count": 80,
     "metadata": {},
     "output_type": "execute_result"
    }
   ],
   "source": [
    "df=pd.read_csv(f'pmdata/p01/fitbit/heart_rate.csv')\n",
    "df.head()\n",
    "#grouped = df.groupby(pd.Grouper(key='dateTime', axis=0, freq='T')).mean()\n",
    "#print(grouped.head())"
   ]
  },
  {
   "cell_type": "code",
   "execution_count": 81,
   "metadata": {},
   "outputs": [],
   "source": [
    "df['dateTime']=pd.to_datetime(df['dateTime'])"
   ]
  },
  {
   "cell_type": "code",
   "execution_count": 82,
   "metadata": {},
   "outputs": [],
   "source": [
    "df=df.set_index('dateTime') #if not already as datetime object\n"
   ]
  },
  {
   "cell_type": "code",
   "execution_count": 83,
   "metadata": {},
   "outputs": [
    {
     "data": {
      "text/html": [
       "<div>\n",
       "<style scoped>\n",
       "    .dataframe tbody tr th:only-of-type {\n",
       "        vertical-align: middle;\n",
       "    }\n",
       "\n",
       "    .dataframe tbody tr th {\n",
       "        vertical-align: top;\n",
       "    }\n",
       "\n",
       "    .dataframe thead th {\n",
       "        text-align: right;\n",
       "    }\n",
       "</style>\n",
       "<table border=\"1\" class=\"dataframe\">\n",
       "  <thead>\n",
       "    <tr style=\"text-align: right;\">\n",
       "      <th></th>\n",
       "      <th>Unnamed: 0</th>\n",
       "      <th>value.bpm</th>\n",
       "      <th>value.confidence</th>\n",
       "    </tr>\n",
       "    <tr>\n",
       "      <th>dateTime</th>\n",
       "      <th></th>\n",
       "      <th></th>\n",
       "      <th></th>\n",
       "    </tr>\n",
       "  </thead>\n",
       "  <tbody>\n",
       "    <tr>\n",
       "      <th>2019-11-01 00:00:05</th>\n",
       "      <td>0</td>\n",
       "      <td>54</td>\n",
       "      <td>3</td>\n",
       "    </tr>\n",
       "    <tr>\n",
       "      <th>2019-11-01 00:00:10</th>\n",
       "      <td>1</td>\n",
       "      <td>52</td>\n",
       "      <td>3</td>\n",
       "    </tr>\n",
       "    <tr>\n",
       "      <th>2019-11-01 00:00:20</th>\n",
       "      <td>2</td>\n",
       "      <td>51</td>\n",
       "      <td>3</td>\n",
       "    </tr>\n",
       "    <tr>\n",
       "      <th>2019-11-01 00:00:25</th>\n",
       "      <td>3</td>\n",
       "      <td>52</td>\n",
       "      <td>3</td>\n",
       "    </tr>\n",
       "    <tr>\n",
       "      <th>2019-11-01 00:00:30</th>\n",
       "      <td>4</td>\n",
       "      <td>51</td>\n",
       "      <td>3</td>\n",
       "    </tr>\n",
       "  </tbody>\n",
       "</table>\n",
       "</div>"
      ],
      "text/plain": [
       "                     Unnamed: 0  value.bpm  value.confidence\n",
       "dateTime                                                    \n",
       "2019-11-01 00:00:05           0         54                 3\n",
       "2019-11-01 00:00:10           1         52                 3\n",
       "2019-11-01 00:00:20           2         51                 3\n",
       "2019-11-01 00:00:25           3         52                 3\n",
       "2019-11-01 00:00:30           4         51                 3"
      ]
     },
     "execution_count": 83,
     "metadata": {},
     "output_type": "execute_result"
    }
   ],
   "source": [
    "df.head()"
   ]
  },
  {
   "cell_type": "code",
   "execution_count": 84,
   "metadata": {},
   "outputs": [
    {
     "data": {
      "text/html": [
       "<div>\n",
       "<style scoped>\n",
       "    .dataframe tbody tr th:only-of-type {\n",
       "        vertical-align: middle;\n",
       "    }\n",
       "\n",
       "    .dataframe tbody tr th {\n",
       "        vertical-align: top;\n",
       "    }\n",
       "\n",
       "    .dataframe thead th {\n",
       "        text-align: right;\n",
       "    }\n",
       "</style>\n",
       "<table border=\"1\" class=\"dataframe\">\n",
       "  <thead>\n",
       "    <tr style=\"text-align: right;\">\n",
       "      <th></th>\n",
       "      <th>Unnamed: 0</th>\n",
       "      <th>value.bpm</th>\n",
       "      <th>value.confidence</th>\n",
       "    </tr>\n",
       "    <tr>\n",
       "      <th>dateTime</th>\n",
       "      <th></th>\n",
       "      <th></th>\n",
       "      <th></th>\n",
       "    </tr>\n",
       "  </thead>\n",
       "  <tbody>\n",
       "    <tr>\n",
       "      <th>2019-11-01 00:00:00</th>\n",
       "      <td>22.0</td>\n",
       "      <td>53.311111</td>\n",
       "      <td>2.977778</td>\n",
       "    </tr>\n",
       "    <tr>\n",
       "      <th>2019-11-01 00:05:00</th>\n",
       "      <td>64.5</td>\n",
       "      <td>53.025000</td>\n",
       "      <td>2.900000</td>\n",
       "    </tr>\n",
       "    <tr>\n",
       "      <th>2019-11-01 00:10:00</th>\n",
       "      <td>101.0</td>\n",
       "      <td>54.121212</td>\n",
       "      <td>3.000000</td>\n",
       "    </tr>\n",
       "    <tr>\n",
       "      <th>2019-11-01 00:15:00</th>\n",
       "      <td>135.5</td>\n",
       "      <td>53.944444</td>\n",
       "      <td>3.000000</td>\n",
       "    </tr>\n",
       "    <tr>\n",
       "      <th>2019-11-01 00:20:00</th>\n",
       "      <td>168.0</td>\n",
       "      <td>54.448276</td>\n",
       "      <td>3.000000</td>\n",
       "    </tr>\n",
       "    <tr>\n",
       "      <th>...</th>\n",
       "      <td>...</td>\n",
       "      <td>...</td>\n",
       "      <td>...</td>\n",
       "    </tr>\n",
       "    <tr>\n",
       "      <th>2020-03-31 23:35:00</th>\n",
       "      <td>1572992.0</td>\n",
       "      <td>61.911111</td>\n",
       "      <td>2.911111</td>\n",
       "    </tr>\n",
       "    <tr>\n",
       "      <th>2020-03-31 23:40:00</th>\n",
       "      <td>1573034.5</td>\n",
       "      <td>57.225000</td>\n",
       "      <td>2.750000</td>\n",
       "    </tr>\n",
       "    <tr>\n",
       "      <th>2020-03-31 23:45:00</th>\n",
       "      <td>1573075.0</td>\n",
       "      <td>57.317073</td>\n",
       "      <td>2.658537</td>\n",
       "    </tr>\n",
       "    <tr>\n",
       "      <th>2020-03-31 23:50:00</th>\n",
       "      <td>1573114.5</td>\n",
       "      <td>55.684211</td>\n",
       "      <td>2.947368</td>\n",
       "    </tr>\n",
       "    <tr>\n",
       "      <th>2020-03-31 23:55:00</th>\n",
       "      <td>1573149.0</td>\n",
       "      <td>55.290323</td>\n",
       "      <td>3.000000</td>\n",
       "    </tr>\n",
       "  </tbody>\n",
       "</table>\n",
       "<p>43776 rows × 3 columns</p>\n",
       "</div>"
      ],
      "text/plain": [
       "                     Unnamed: 0  value.bpm  value.confidence\n",
       "dateTime                                                    \n",
       "2019-11-01 00:00:00        22.0  53.311111          2.977778\n",
       "2019-11-01 00:05:00        64.5  53.025000          2.900000\n",
       "2019-11-01 00:10:00       101.0  54.121212          3.000000\n",
       "2019-11-01 00:15:00       135.5  53.944444          3.000000\n",
       "2019-11-01 00:20:00       168.0  54.448276          3.000000\n",
       "...                         ...        ...               ...\n",
       "2020-03-31 23:35:00   1572992.0  61.911111          2.911111\n",
       "2020-03-31 23:40:00   1573034.5  57.225000          2.750000\n",
       "2020-03-31 23:45:00   1573075.0  57.317073          2.658537\n",
       "2020-03-31 23:50:00   1573114.5  55.684211          2.947368\n",
       "2020-03-31 23:55:00   1573149.0  55.290323          3.000000\n",
       "\n",
       "[43776 rows x 3 columns]"
      ]
     },
     "execution_count": 84,
     "metadata": {},
     "output_type": "execute_result"
    }
   ],
   "source": [
    "df.resample('5min').agg(pyfun)"
   ]
  },
  {
   "cell_type": "code",
   "execution_count": 85,
   "metadata": {},
   "outputs": [
    {
     "data": {
      "text/html": [
       "<div>\n",
       "<style scoped>\n",
       "    .dataframe tbody tr th:only-of-type {\n",
       "        vertical-align: middle;\n",
       "    }\n",
       "\n",
       "    .dataframe tbody tr th {\n",
       "        vertical-align: top;\n",
       "    }\n",
       "\n",
       "    .dataframe thead th {\n",
       "        text-align: right;\n",
       "    }\n",
       "</style>\n",
       "<table border=\"1\" class=\"dataframe\">\n",
       "  <thead>\n",
       "    <tr style=\"text-align: right;\">\n",
       "      <th></th>\n",
       "      <th>Unnamed: 0</th>\n",
       "      <th>value.bpm</th>\n",
       "      <th>value.confidence</th>\n",
       "    </tr>\n",
       "    <tr>\n",
       "      <th>dateTime</th>\n",
       "      <th></th>\n",
       "      <th></th>\n",
       "      <th></th>\n",
       "    </tr>\n",
       "  </thead>\n",
       "  <tbody>\n",
       "    <tr>\n",
       "      <th>2020-03-31 00:00:01</th>\n",
       "      <td>1563363</td>\n",
       "      <td>52</td>\n",
       "      <td>3</td>\n",
       "    </tr>\n",
       "    <tr>\n",
       "      <th>2020-03-31 00:00:06</th>\n",
       "      <td>1563364</td>\n",
       "      <td>54</td>\n",
       "      <td>3</td>\n",
       "    </tr>\n",
       "    <tr>\n",
       "      <th>2020-03-31 00:00:11</th>\n",
       "      <td>1563365</td>\n",
       "      <td>52</td>\n",
       "      <td>3</td>\n",
       "    </tr>\n",
       "    <tr>\n",
       "      <th>2020-03-31 00:00:16</th>\n",
       "      <td>1563366</td>\n",
       "      <td>52</td>\n",
       "      <td>3</td>\n",
       "    </tr>\n",
       "    <tr>\n",
       "      <th>2020-03-31 00:00:26</th>\n",
       "      <td>1563367</td>\n",
       "      <td>51</td>\n",
       "      <td>3</td>\n",
       "    </tr>\n",
       "    <tr>\n",
       "      <th>...</th>\n",
       "      <td>...</td>\n",
       "      <td>...</td>\n",
       "      <td>...</td>\n",
       "    </tr>\n",
       "    <tr>\n",
       "      <th>2020-03-31 23:59:18</th>\n",
       "      <td>1573160</td>\n",
       "      <td>55</td>\n",
       "      <td>3</td>\n",
       "    </tr>\n",
       "    <tr>\n",
       "      <th>2020-03-31 23:59:23</th>\n",
       "      <td>1573161</td>\n",
       "      <td>54</td>\n",
       "      <td>3</td>\n",
       "    </tr>\n",
       "    <tr>\n",
       "      <th>2020-03-31 23:59:33</th>\n",
       "      <td>1573162</td>\n",
       "      <td>56</td>\n",
       "      <td>3</td>\n",
       "    </tr>\n",
       "    <tr>\n",
       "      <th>2020-03-31 23:59:48</th>\n",
       "      <td>1573163</td>\n",
       "      <td>56</td>\n",
       "      <td>3</td>\n",
       "    </tr>\n",
       "    <tr>\n",
       "      <th>2020-03-31 23:59:58</th>\n",
       "      <td>1573164</td>\n",
       "      <td>55</td>\n",
       "      <td>3</td>\n",
       "    </tr>\n",
       "  </tbody>\n",
       "</table>\n",
       "<p>9802 rows × 3 columns</p>\n",
       "</div>"
      ],
      "text/plain": [
       "                     Unnamed: 0  value.bpm  value.confidence\n",
       "dateTime                                                    \n",
       "2020-03-31 00:00:01     1563363         52                 3\n",
       "2020-03-31 00:00:06     1563364         54                 3\n",
       "2020-03-31 00:00:11     1563365         52                 3\n",
       "2020-03-31 00:00:16     1563366         52                 3\n",
       "2020-03-31 00:00:26     1563367         51                 3\n",
       "...                         ...        ...               ...\n",
       "2020-03-31 23:59:18     1573160         55                 3\n",
       "2020-03-31 23:59:23     1573161         54                 3\n",
       "2020-03-31 23:59:33     1573162         56                 3\n",
       "2020-03-31 23:59:48     1573163         56                 3\n",
       "2020-03-31 23:59:58     1573164         55                 3\n",
       "\n",
       "[9802 rows x 3 columns]"
      ]
     },
     "execution_count": 85,
     "metadata": {},
     "output_type": "execute_result"
    }
   ],
   "source": [
    "df.loc['2020-03-31']"
   ]
  },
  {
   "cell_type": "markdown",
   "metadata": {},
   "source": [
    "## ETL Function\n",
    "\n",
    "> Resulted Files will be saved in Fitbit ETL Directory"
   ]
  },
  {
   "cell_type": "code",
   "execution_count": null,
   "metadata": {},
   "outputs": [],
   "source": [
    "import os"
   ]
  },
  {
   "cell_type": "code",
   "execution_count": 86,
   "metadata": {},
   "outputs": [],
   "source": [
    "#datetime zero row\n",
    "correct_files=['heart_rate.csv']\n",
    "#other_files=['exercise.csv']\n",
    "def ETL(dir,participant_list,day,group_minute,col):\n",
    "\n",
    "    os.makedirs(f\"pmdata/{participant_list}/fitbit/ETL\",exist_ok=True)\n",
    "\n",
    "\n",
    "    print(\"yes\")\n",
    "\n",
    "    for file in correct_files:\n",
    "        print(\"File : \", file)\n",
    "        df=pd.read_csv(f'{dir}/{participant_list}/fitbit/{file}')\n",
    "            \n",
    "            # Extracting a Particular Day\n",
    "         \n",
    "        print(len(df))\n",
    "        print(range(len(df)))\n",
    "        df[col]=pd.to_datetime(df[col])\n",
    "        df=df.set_index(col)\n",
    "        df=df.loc[day]\n",
    "        df= df.resample('5min').agg(pyfun)\n",
    "        \n",
    "        #df_list.append(df)\n",
    "        df.to_csv(f'{dir}/{participant_list}/fitbit/ETL/result_{file}',index=True)\n",
    "        print(\"Sucess : File Saved at \" , f'{dir}/{participant_list}/fitbit/ETL/result_{file}')\n"
   ]
  },
  {
   "cell_type": "code",
   "execution_count": 87,
   "metadata": {},
   "outputs": [
    {
     "name": "stdout",
     "output_type": "stream",
     "text": [
      "yes\n",
      "File :  heart_rate.csv\n",
      "1573165\n",
      "range(0, 1573165)\n",
      "Sucess : File Saved at  pmdata/p01/fitbit/ETL/result_heart_rate.csv\n"
     ]
    }
   ],
   "source": [
    "correct_files=['heart_rate.csv']\n",
    "\n",
    "ETL(\"pmdata\",\"p01\",'2019-11-01',5,\"dateTime\")"
   ]
  },
  {
   "cell_type": "markdown",
   "metadata": {},
   "source": [
    "# Same Applying to Calories.csv Exercise\n"
   ]
  },
  {
   "cell_type": "code",
   "execution_count": 106,
   "metadata": {},
   "outputs": [
    {
     "name": "stdout",
     "output_type": "stream",
     "text": [
      "yes\n",
      "File :  calories.csv\n",
      "218880\n",
      "range(0, 218880)\n",
      "Sucess : File Saved at  pmdata/p01/fitbit/ETL/result_calories.csv\n"
     ]
    }
   ],
   "source": [
    "correct_files=['calories.csv']\n",
    "\n",
    "ETL(\"pmdata\",\"p01\",'2019-12-20',5,\"dateTime\")"
   ]
  },
  {
   "cell_type": "markdown",
   "metadata": {},
   "source": [
    "## Exercise File"
   ]
  },
  {
   "cell_type": "code",
   "execution_count": 96,
   "metadata": {},
   "outputs": [],
   "source": [
    "df=pd.read_csv(f'pmdata/p01/fitbit/exercise.csv')"
   ]
  },
  {
   "cell_type": "code",
   "execution_count": 103,
   "metadata": {},
   "outputs": [],
   "source": [
    "df=df[['startTime','averageHeartRate','calories','duration','activeDuration','steps']]"
   ]
  },
  {
   "cell_type": "code",
   "execution_count": 104,
   "metadata": {},
   "outputs": [
    {
     "data": {
      "text/plain": [
       "0      2019-11-01 14:56:32\n",
       "1      2019-11-01 19:03:11\n",
       "2      2019-11-02 13:26:38\n",
       "3      2019-11-04 21:22:08\n",
       "4      2019-11-05 19:27:25\n",
       "              ...         \n",
       "185    2020-03-27 13:07:53\n",
       "186    2020-03-27 16:22:27\n",
       "187    2020-03-28 09:58:08\n",
       "188    2020-03-29 07:42:53\n",
       "189    2020-03-31 16:51:36\n",
       "Name: startTime, Length: 190, dtype: object"
      ]
     },
     "execution_count": 104,
     "metadata": {},
     "output_type": "execute_result"
    }
   ],
   "source": [
    "df['startTime']"
   ]
  },
  {
   "cell_type": "code",
   "execution_count": 108,
   "metadata": {},
   "outputs": [
    {
     "name": "stdout",
     "output_type": "stream",
     "text": [
      "yes\n",
      "File :  exercise.csv\n",
      "190\n",
      "range(0, 190)\n",
      "Sucess : File Saved at  pmdata/p01/fitbit/ETL/result_exercise.csv\n"
     ]
    }
   ],
   "source": [
    "correct_files=['exercise.csv']\n",
    "\n",
    "ETL(\"pmdata\",\"p01\",'2019-11-02',5,'startTime')"
   ]
  },
  {
   "cell_type": "markdown",
   "metadata": {},
   "source": [
    "## Merge CSV Files"
   ]
  },
  {
   "cell_type": "code",
   "execution_count": 92,
   "metadata": {},
   "outputs": [
    {
     "name": "stdout",
     "output_type": "stream",
     "text": [
      "exercise.csv\n"
     ]
    }
   ],
   "source": [
    "for file in correct_files:\n",
    "    print(file)"
   ]
  },
  {
   "cell_type": "code",
   "execution_count": null,
   "metadata": {},
   "outputs": [],
   "source": []
  },
  {
   "cell_type": "code",
   "execution_count": 93,
   "metadata": {},
   "outputs": [
    {
     "ename": "NameError",
     "evalue": "name 'df1' is not defined",
     "output_type": "error",
     "traceback": [
      "\u001b[0;31m---------------------------------------------------------------------------\u001b[0m",
      "\u001b[0;31mNameError\u001b[0m                                 Traceback (most recent call last)",
      "\u001b[1;32m/Users/hassan/Desktop/Study/BDS2/as2/exam2_transform.ipynb Cell 39\u001b[0m line \u001b[0;36m1\n\u001b[0;32m----> <a href='vscode-notebook-cell:/Users/hassan/Desktop/Study/BDS2/as2/exam2_transform.ipynb#X25sZmlsZQ%3D%3D?line=0'>1</a>\u001b[0m df1\u001b[39m.\u001b[39mhead()\n",
      "\u001b[0;31mNameError\u001b[0m: name 'df1' is not defined"
     ]
    }
   ],
   "source": [
    "df1.head()"
   ]
  },
  {
   "cell_type": "code",
   "execution_count": 94,
   "metadata": {},
   "outputs": [
    {
     "data": {
      "text/plain": [
       "\" \\npd.merge(df1.head(),df2.head(),how='r')\\ndfs = []\\nfor i in range(13):\\n    df = ... # However it is that you create your dataframes   \\n    dfs.append(df)\\n\\n\\ndf1.append(df2)\\n\\n\""
      ]
     },
     "execution_count": 94,
     "metadata": {},
     "output_type": "execute_result"
    }
   ],
   "source": [
    "\"\"\" \n",
    "pd.merge(df1.head(),df2.head(),how='r')\n",
    "dfs = []\n",
    "for i in range(13):\n",
    "    df = ... # However it is that you create your dataframes   \n",
    "    dfs.append(df)\n",
    "\n",
    "\n",
    "df1.append(df2)\n",
    "\n",
    "\"\"\"\n"
   ]
  },
  {
   "cell_type": "code",
   "execution_count": null,
   "metadata": {},
   "outputs": [],
   "source": []
  },
  {
   "cell_type": "code",
   "execution_count": null,
   "metadata": {},
   "outputs": [],
   "source": [
    "def merge_one_file(path):\n",
    "    \"\"\"ArithmeticError\n",
    "    \"\"\"\n",
    "    for file in correct_files\n"
   ]
  },
  {
   "cell_type": "markdown",
   "metadata": {},
   "source": [
    "# Calibration Size"
   ]
  },
  {
   "cell_type": "markdown",
   "metadata": {},
   "source": [
    "## tsai"
   ]
  },
  {
   "cell_type": "code",
   "execution_count": null,
   "metadata": {},
   "outputs": [],
   "source": [
    "from tsai.all import *"
   ]
  },
  {
   "cell_type": "markdown",
   "metadata": {},
   "source": [
    "## Apply RLE"
   ]
  },
  {
   "cell_type": "code",
   "execution_count": null,
   "metadata": {},
   "outputs": [],
   "source": [
    "\n",
    "\"\"\" \n",
    "correct_files\n",
    "df1 = pd.read_csv(\"pmdata/p01/fitbit/processed/Train_calories.csv\")\n",
    "df2 = pd.read_csv(\"pmdata/p01/fitbit/processed/Test_calories.csv\")  \n",
    "dfs = []\n",
    "dfs.append(df1)\n",
    "dfs.append(df2)\n",
    "df = pd.concat(dfs)\n",
    "\"\"\"\n",
    "\n",
    "\n",
    "def apply_rle(df,wl,strd):\n",
    "\n",
    "    #df = pd.read_csv(\"pmdata/p01/fitbit/processed/Train_calories.csv\")\n",
    "    X = df2xy(df,sample_col=None,feat_col=None)\n",
    "    X=X[0].reshape(X[0].shape[0],X[0].shape[2])\n",
    "    window_length = wl\n",
    "    stride = strd\n",
    "    n_vars = 3\n",
    "    t = X\n",
    "    print(t.shape)\n",
    "    plt.plot(t)\n",
    "    plt.show()\n",
    "    #print(range(0,t.shape[1]))\n",
    "\n",
    "    print(list(range(0,t.shape[1])))\n",
    "    X,y= SlidingWindow(window_length, stride=stride,get_x=list(range(0,t.shape[1])),get_y=0)(t)\n",
    "    return X"
   ]
  },
  {
   "cell_type": "markdown",
   "metadata": {},
   "source": []
  },
  {
   "cell_type": "markdown",
   "metadata": {},
   "source": [
    "## Train Data"
   ]
  },
  {
   "cell_type": "code",
   "execution_count": null,
   "metadata": {},
   "outputs": [],
   "source": [
    "Train_X =[]\n",
    "Train_Y =[]\n",
    "for file in correct_files:\n",
    "    df = pd.read_csv(f\"pmdata/p01/fitbit/processed/Train_{file}\")\n",
    "    if file == 'sleep_score.csv':\n",
    "        X = df2xy(df,sample_col=None,feat_col=None)\n",
    "        X=X[0].reshape(X[0].shape[0],X[0].shape[2])\n",
    "        window_length = 5\n",
    "        stride = 2\n",
    "        n_vars = 3\n",
    "        t = X\n",
    "        print(t.shape)\n",
    "\n",
    "        print(list(range(0,t.shape[1])))\n",
    "        X,y= SlidingWindow(window_length, stride=stride,get_x=list(range(0,t.shape[1])),get_y=2)(t)\n",
    "      \n",
    "        Train_Y.append(y)\n",
    "    else:\n",
    "        Train_X.append(apply_rle(df,5,2))"
   ]
  },
  {
   "cell_type": "code",
   "execution_count": null,
   "metadata": {},
   "outputs": [],
   "source": [
    "Train_Y[0]"
   ]
  },
  {
   "cell_type": "markdown",
   "metadata": {},
   "source": []
  },
  {
   "cell_type": "markdown",
   "metadata": {},
   "source": [
    "## Test Data"
   ]
  },
  {
   "cell_type": "code",
   "execution_count": null,
   "metadata": {},
   "outputs": [],
   "source": [
    "Test_X =[]\n",
    "Test_Y =[]\n",
    "for file in correct_files:\n",
    "    df = pd.read_csv(f\"pmdata/p01/fitbit/processed/Test_{file}\")\n",
    "    if file == 'sleep_score.csv':\n",
    "        X = df2xy(df,sample_col=None,feat_col=None)\n",
    "        X=X[0].reshape(X[0].shape[0],X[0].shape[2])\n",
    "        window_length = 5\n",
    "        stride = 2\n",
    "        n_vars = 3\n",
    "        t = X\n",
    "        print(t.shape)\n",
    "\n",
    "        print(list(range(0,t.shape[1])))\n",
    "        X,y= SlidingWindow(window_length, stride=stride,get_x=list(range(0,t.shape[1])),get_y=2)(t)\n",
    "              \n",
    "        Test_Y.append(y)\n",
    "    else:\n",
    "        Test_X.append(apply_rle(df,5,2))"
   ]
  },
  {
   "cell_type": "markdown",
   "metadata": {},
   "source": [
    "## Check Train and Test Sizes"
   ]
  },
  {
   "cell_type": "code",
   "execution_count": null,
   "metadata": {},
   "outputs": [],
   "source": [
    "len(Train_X)"
   ]
  },
  {
   "cell_type": "code",
   "execution_count": null,
   "metadata": {},
   "outputs": [],
   "source": [
    "print(\"Train Sizes \")\n",
    "for k in range(len(Train_X)):\n",
    "    print(f'File Name : {correct_files[k]} ' ,Train_X[k].shape)"
   ]
  },
  {
   "cell_type": "code",
   "execution_count": null,
   "metadata": {},
   "outputs": [],
   "source": [
    "print(\"Train Target Sizes \")\n",
    "for k in range(len(Train_Y)):\n",
    "    print(f'File Name : sleep_score.csv ' ,Train_Y[k].shape)"
   ]
  },
  {
   "cell_type": "code",
   "execution_count": null,
   "metadata": {},
   "outputs": [],
   "source": [
    "print(\"Test Sizes \")\n",
    "for k in range(len(Test_X)):\n",
    "    print(f'File Name : {correct_files[k]} ' ,Test_X[k].shape)"
   ]
  },
  {
   "cell_type": "code",
   "execution_count": null,
   "metadata": {},
   "outputs": [],
   "source": [
    "print(\"Test Sizes \")\n",
    "for k in range(len(Test_Y)):\n",
    "    print(f'File Name : sleep_score.csv ' ,Test_Y[k].shape)"
   ]
  },
  {
   "cell_type": "markdown",
   "metadata": {},
   "source": [
    "## Randomly Selection of Data between [0,1]"
   ]
  },
  {
   "cell_type": "code",
   "execution_count": null,
   "metadata": {},
   "outputs": [],
   "source": [
    "from random import *\n",
    "\n"
   ]
  },
  {
   "cell_type": "markdown",
   "metadata": {},
   "source": [
    "### Join Column Wise Data"
   ]
  },
  {
   "cell_type": "code",
   "execution_count": null,
   "metadata": {},
   "outputs": [],
   "source": [
    "Joined_train_X=np.concatenate((train_X[0], train_X[1]), axis=1)\n",
    "for k in range(2,len(train_X)):\n",
    "    Joined_train_X=np.concatenate((Joined_train_X,train_X[k]),axis=1)\n",
    "    print(\"Updated Shape : \",Joined_train_X.shape)"
   ]
  },
  {
   "cell_type": "code",
   "execution_count": null,
   "metadata": {},
   "outputs": [],
   "source": [
    "Joined_train_Y = train_Y[0]"
   ]
  },
  {
   "cell_type": "code",
   "execution_count": null,
   "metadata": {},
   "outputs": [],
   "source": [
    "Joined_train_X.shape"
   ]
  },
  {
   "cell_type": "code",
   "execution_count": null,
   "metadata": {},
   "outputs": [],
   "source": [
    "Joined_train_X.shape,Joined_train_Y.shape"
   ]
  },
  {
   "cell_type": "code",
   "execution_count": null,
   "metadata": {},
   "outputs": [],
   "source": []
  }
 ],
 "metadata": {
  "kernelspec": {
   "display_name": "Python 3",
   "language": "python",
   "name": "python3"
  },
  "language_info": {
   "codemirror_mode": {
    "name": "ipython",
    "version": 3
   },
   "file_extension": ".py",
   "mimetype": "text/x-python",
   "name": "python",
   "nbconvert_exporter": "python",
   "pygments_lexer": "ipython3",
   "version": "3.11.5"
  },
  "orig_nbformat": 4
 },
 "nbformat": 4,
 "nbformat_minor": 2
}
