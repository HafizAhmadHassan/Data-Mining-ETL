{
 "cells": [
  {
   "cell_type": "code",
   "execution_count": 7,
   "metadata": {},
   "outputs": [
    {
     "name": "stdout",
     "output_type": "stream",
     "text": [
      "fatal: destination path 'fitbit' already exists and is not an empty directory.\n"
     ]
    }
   ],
   "source": [
    "!git clone https://github.com/jesseanddd/fitbit.git"
   ]
  },
  {
   "cell_type": "code",
   "execution_count": 8,
   "metadata": {},
   "outputs": [],
   "source": [
    "# fitbit  \n",
    "!get clone https://github.com/jesseanddd/fitbit.git"
   ]
  },
  {
   "cell_type": "code",
   "execution_count": null,
   "metadata": {},
   "outputs": [],
   "source": []
  },
  {
   "cell_type": "markdown",
   "metadata": {},
   "source": []
  },
  {
   "cell_type": "code",
   "execution_count": 9,
   "metadata": {},
   "outputs": [
    {
     "name": "stdout",
     "output_type": "stream",
     "text": [
      "Requirement already satisfied: openpyxl in /usr/local/lib/python3.11/site-packages (3.1.2)\n",
      "Requirement already satisfied: et-xmlfile in /usr/local/lib/python3.11/site-packages (from openpyxl) (1.1.0)\n"
     ]
    }
   ],
   "source": [
    "!pip install openpyxl --upgrade\n"
   ]
  },
  {
   "cell_type": "markdown",
   "metadata": {},
   "source": [
    "# Data Preperation"
   ]
  },
  {
   "cell_type": "markdown",
   "metadata": {},
   "source": [
    "## Import Libraries"
   ]
  },
  {
   "cell_type": "code",
   "execution_count": 5,
   "metadata": {},
   "outputs": [],
   "source": [
    "import numpy as np\n",
    "import os\n",
    "import pandas as pd\n",
    "import json"
   ]
  },
  {
   "cell_type": "markdown",
   "metadata": {},
   "source": [
    "## Get Participation List"
   ]
  },
  {
   "cell_type": "code",
   "execution_count": 10,
   "metadata": {},
   "outputs": [],
   "source": [
    "\n",
    "\n",
    "def get_pl(path_xls):\n",
    "    \"\"\"\n",
    "    this is output\n",
    "    ['p01',\n",
    "    'p02',\n",
    "    'p03',\n",
    "    'p04',\n",
    "    'p05',\n",
    "    'p06',\n",
    "    'p07',\n",
    "    'p08',\n",
    "    'p09',\n",
    "    'p10',\n",
    "    'p11',\n",
    "    'p12',\n",
    "    'p13',\n",
    "    'p14',\n",
    "    'p15',\n",
    "    'p16']\n",
    "    \"\"\"\n",
    "    dfs = pd.read_excel(path_xls, sheet_name=None)\n",
    "    return list(dfs[\"Sheet1\"][\"Unnamed: 0\"])[1:]\n"
   ]
  },
  {
   "cell_type": "markdown",
   "metadata": {},
   "source": [
    "# JSON TO CSV"
   ]
  },
  {
   "cell_type": "code",
   "execution_count": 12,
   "metadata": {},
   "outputs": [],
   "source": [
    "\n",
    "def json_to_csv():\n",
    "    for pars in get_pl(\"pmdata/participant-overview.xlsx\"):\n",
    "        print(\"participant \",pars)\n",
    "        for files in os.listdir(f'pmdata/{pars}/fitbit/'):\n",
    "            if files!='sleep_score.csv':\n",
    "                print(\"File Name\", files)\n",
    "                with open(f'pmdata/{pars}/fitbit/{files}') as f:\n",
    "                    data = json.load(f)\n",
    "                df = pd.json_normalize(data)\n",
    "                print(df.head())\n",
    "                df.to_csv(f'pmdata/{pars}/fitbit/{files[:-4]}csv')"
   ]
  },
  {
   "cell_type": "code",
   "execution_count": null,
   "metadata": {},
   "outputs": [],
   "source": [
    "json_to_csv()"
   ]
  },
  {
   "cell_type": "markdown",
   "metadata": {},
   "source": [
    "## Train and Test CSV Files"
   ]
  },
  {
   "cell_type": "code",
   "execution_count": 1,
   "metadata": {},
   "outputs": [],
   "source": [
    "#datetime zero row\n",
    "correct_files=['heart_rate.csv','calories.csv','steps.csv','distance.csv','sleep_score.csv']\n",
    "other_files=['exercise.csv','sleep.csv','lightly_active_minutes.csv','moderately_active_minutes.csv','resting_heart_rate.csv','sedentary_minutes.csv','time_in_heart_rate_zones.csv','very_active_minutes.csv']\n",
    "def get_df(dir,participant_list,prediction_time,obs_time,test_size):\n",
    "    \"\"\" \n",
    "    store the rows for training and testing\n",
    "    \"\"\"\n",
    "    \n",
    "    files_train_row = {\n",
    "      \"heart_rate.csv\": [], \n",
    "      \"calories.csv\": [], \n",
    "      \"steps.csv\": [],\n",
    "      \"distance.csv\": [],\n",
    "      \"sleep_score.csv\": []\n",
    "    }\n",
    "\n",
    "    files_test_row = {\n",
    "      \"heart_rate.csv\": [], \n",
    "      \"calories.csv\": [], \n",
    "      \"steps.csv\": [],\n",
    "      \"distance.csv\": [],\n",
    "      \"sleep_score.csv\": []\n",
    "    }\n",
    "    os.makedirs(f\"pmdata/{participant_list}/fitbit/processed\",exist_ok=True)\n",
    "\n",
    "    if( (prediction_time >=0 and prediction_time <=24) and (prediction_time-obs_time >=0 and prediction_time-obs_time <=24) and (test_size>=0 and test_size<=1)):\n",
    "        print(\"yes\")\n",
    "        col=\"dateTime\"\n",
    "        x1=11\n",
    "        y1=13\n",
    "        for file in correct_files:\n",
    "            print(\"File : \", file)\n",
    "            df=pd.read_csv(f'{dir}/{participant_list}/fitbit/{file}')\n",
    "            if file == 'sleep_score.csv':\n",
    "                col =\"timestamp\"\n",
    "            print(len(df))\n",
    "            print(range(len(df)))\n",
    "            for r in range(len(df)):\n",
    "                #print(r)\n",
    "                #print(int(df[col][r][x1:y1]))\n",
    "                if int(df[col][r][x1:y1])==prediction_time :\n",
    "                    files_train_row[file].append(r)                \n",
    "                if int(df[col][r][x1:y1])<prediction_time and int(df[col][r][x1:y1])>=prediction_time-obs_time:\n",
    "                      files_test_row[file].append(r)\n",
    "            df[col] = pd.to_datetime(df[col])\n",
    "    # extract hour from the timestamp column to create an time_hour column\n",
    "            df[col] = df[col].dt.hour\n",
    "            df.loc[list(files_train_row[file])].to_csv(f'{dir}/{participant_list}/fitbit/processed/Train_{file}',index=False)\n",
    "            df.loc[list(files_test_row[file])].to_csv(f'{dir}/{participant_list}/fitbit/processed/Test_{file}',index=False)           \n",
    "\n"
   ]
  },
  {
   "cell_type": "code",
   "execution_count": 213,
   "metadata": {},
   "outputs": [
    {
     "name": "stdout",
     "output_type": "stream",
     "text": [
      "yes\n",
      "File :  heart_rate.csv\n",
      "1573165\n",
      "range(0, 1573165)\n",
      "File :  calories.csv\n",
      "218880\n",
      "range(0, 218880)\n",
      "File :  steps.csv\n",
      "218836\n",
      "range(0, 218836)\n",
      "File :  distance.csv\n",
      "218836\n",
      "range(0, 218836)\n",
      "File :  sleep_score.csv\n",
      "150\n",
      "range(0, 150)\n"
     ]
    }
   ],
   "source": [
    "get_df(\"pmdata\",'p01',7,1,0.2)"
   ]
  },
  {
   "cell_type": "markdown",
   "metadata": {},
   "source": [
    "## Merge CSV Files"
   ]
  },
  {
   "cell_type": "code",
   "execution_count": 3,
   "metadata": {},
   "outputs": [
    {
     "name": "stdout",
     "output_type": "stream",
     "text": [
      "heart_rate.csv\n",
      "calories.csv\n",
      "steps.csv\n",
      "distance.csv\n",
      "sleep_score.csv\n"
     ]
    }
   ],
   "source": [
    "for file in correct_files:\n",
    "    print(file)"
   ]
  },
  {
   "cell_type": "code",
   "execution_count": 6,
   "metadata": {},
   "outputs": [],
   "source": []
  },
  {
   "cell_type": "code",
   "execution_count": 8,
   "metadata": {},
   "outputs": [
    {
     "data": {
      "text/html": [
       "<div>\n",
       "<style scoped>\n",
       "    .dataframe tbody tr th:only-of-type {\n",
       "        vertical-align: middle;\n",
       "    }\n",
       "\n",
       "    .dataframe tbody tr th {\n",
       "        vertical-align: top;\n",
       "    }\n",
       "\n",
       "    .dataframe thead th {\n",
       "        text-align: right;\n",
       "    }\n",
       "</style>\n",
       "<table border=\"1\" class=\"dataframe\">\n",
       "  <thead>\n",
       "    <tr style=\"text-align: right;\">\n",
       "      <th></th>\n",
       "      <th>Unnamed: 0</th>\n",
       "      <th>dateTime</th>\n",
       "      <th>value</th>\n",
       "    </tr>\n",
       "  </thead>\n",
       "  <tbody>\n",
       "    <tr>\n",
       "      <th>0</th>\n",
       "      <td>420</td>\n",
       "      <td>7</td>\n",
       "      <td>4.45</td>\n",
       "    </tr>\n",
       "    <tr>\n",
       "      <th>1</th>\n",
       "      <td>421</td>\n",
       "      <td>7</td>\n",
       "      <td>5.28</td>\n",
       "    </tr>\n",
       "    <tr>\n",
       "      <th>2</th>\n",
       "      <td>422</td>\n",
       "      <td>7</td>\n",
       "      <td>5.00</td>\n",
       "    </tr>\n",
       "    <tr>\n",
       "      <th>3</th>\n",
       "      <td>423</td>\n",
       "      <td>7</td>\n",
       "      <td>3.89</td>\n",
       "    </tr>\n",
       "    <tr>\n",
       "      <th>4</th>\n",
       "      <td>424</td>\n",
       "      <td>7</td>\n",
       "      <td>1.39</td>\n",
       "    </tr>\n",
       "  </tbody>\n",
       "</table>\n",
       "</div>"
      ],
      "text/plain": [
       "   Unnamed: 0  dateTime  value\n",
       "0         420         7   4.45\n",
       "1         421         7   5.28\n",
       "2         422         7   5.00\n",
       "3         423         7   3.89\n",
       "4         424         7   1.39"
      ]
     },
     "execution_count": 8,
     "metadata": {},
     "output_type": "execute_result"
    }
   ],
   "source": [
    "df1.head()"
   ]
  },
  {
   "cell_type": "code",
   "execution_count": 10,
   "metadata": {},
   "outputs": [
    {
     "data": {
      "text/html": [
       "<div>\n",
       "<style scoped>\n",
       "    .dataframe tbody tr th:only-of-type {\n",
       "        vertical-align: middle;\n",
       "    }\n",
       "\n",
       "    .dataframe tbody tr th {\n",
       "        vertical-align: top;\n",
       "    }\n",
       "\n",
       "    .dataframe thead th {\n",
       "        text-align: right;\n",
       "    }\n",
       "</style>\n",
       "<table border=\"1\" class=\"dataframe\">\n",
       "  <thead>\n",
       "    <tr style=\"text-align: right;\">\n",
       "      <th></th>\n",
       "      <th>Unnamed: 0</th>\n",
       "      <th>dateTime</th>\n",
       "      <th>value</th>\n",
       "    </tr>\n",
       "  </thead>\n",
       "  <tbody>\n",
       "    <tr>\n",
       "      <th>0</th>\n",
       "      <td>420</td>\n",
       "      <td>7</td>\n",
       "      <td>4.45</td>\n",
       "    </tr>\n",
       "    <tr>\n",
       "      <th>1</th>\n",
       "      <td>421</td>\n",
       "      <td>7</td>\n",
       "      <td>5.28</td>\n",
       "    </tr>\n",
       "    <tr>\n",
       "      <th>2</th>\n",
       "      <td>422</td>\n",
       "      <td>7</td>\n",
       "      <td>5.00</td>\n",
       "    </tr>\n",
       "    <tr>\n",
       "      <th>3</th>\n",
       "      <td>423</td>\n",
       "      <td>7</td>\n",
       "      <td>3.89</td>\n",
       "    </tr>\n",
       "    <tr>\n",
       "      <th>4</th>\n",
       "      <td>424</td>\n",
       "      <td>7</td>\n",
       "      <td>1.39</td>\n",
       "    </tr>\n",
       "    <tr>\n",
       "      <th>...</th>\n",
       "      <td>...</td>\n",
       "      <td>...</td>\n",
       "      <td>...</td>\n",
       "    </tr>\n",
       "    <tr>\n",
       "      <th>9115</th>\n",
       "      <td>217855</td>\n",
       "      <td>6</td>\n",
       "      <td>1.38</td>\n",
       "    </tr>\n",
       "    <tr>\n",
       "      <th>9116</th>\n",
       "      <td>217856</td>\n",
       "      <td>6</td>\n",
       "      <td>1.38</td>\n",
       "    </tr>\n",
       "    <tr>\n",
       "      <th>9117</th>\n",
       "      <td>217857</td>\n",
       "      <td>6</td>\n",
       "      <td>1.38</td>\n",
       "    </tr>\n",
       "    <tr>\n",
       "      <th>9118</th>\n",
       "      <td>217858</td>\n",
       "      <td>6</td>\n",
       "      <td>1.38</td>\n",
       "    </tr>\n",
       "    <tr>\n",
       "      <th>9119</th>\n",
       "      <td>217859</td>\n",
       "      <td>6</td>\n",
       "      <td>1.38</td>\n",
       "    </tr>\n",
       "  </tbody>\n",
       "</table>\n",
       "<p>18240 rows × 3 columns</p>\n",
       "</div>"
      ],
      "text/plain": [
       "      Unnamed: 0  dateTime  value\n",
       "0            420         7   4.45\n",
       "1            421         7   5.28\n",
       "2            422         7   5.00\n",
       "3            423         7   3.89\n",
       "4            424         7   1.39\n",
       "...          ...       ...    ...\n",
       "9115      217855         6   1.38\n",
       "9116      217856         6   1.38\n",
       "9117      217857         6   1.38\n",
       "9118      217858         6   1.38\n",
       "9119      217859         6   1.38\n",
       "\n",
       "[18240 rows x 3 columns]"
      ]
     },
     "execution_count": 10,
     "metadata": {},
     "output_type": "execute_result"
    }
   ],
   "source": [
    "\"\"\" \n",
    "pd.merge(df1.head(),df2.head(),how='r')\n",
    "dfs = []\n",
    "for i in range(13):\n",
    "    df = ... # However it is that you create your dataframes   \n",
    "    dfs.append(df)\n",
    "\n",
    "\n",
    "df1.append(df2)\n",
    "\n",
    "\"\"\"\n"
   ]
  },
  {
   "cell_type": "code",
   "execution_count": null,
   "metadata": {},
   "outputs": [],
   "source": []
  },
  {
   "cell_type": "code",
   "execution_count": null,
   "metadata": {},
   "outputs": [],
   "source": [
    "def merge_one_file(path):\n",
    "    \"\"\"ArithmeticError\n",
    "    \"\"\"\n",
    "    for file in correct_files\n"
   ]
  },
  {
   "cell_type": "markdown",
   "metadata": {},
   "source": [
    "# Calibration Size"
   ]
  },
  {
   "cell_type": "markdown",
   "metadata": {},
   "source": [
    "## tsai"
   ]
  },
  {
   "cell_type": "code",
   "execution_count": 11,
   "metadata": {},
   "outputs": [],
   "source": [
    "from tsai.all import *"
   ]
  },
  {
   "cell_type": "markdown",
   "metadata": {},
   "source": [
    "## Apply RLE"
   ]
  },
  {
   "cell_type": "code",
   "execution_count": 225,
   "metadata": {},
   "outputs": [],
   "source": [
    "\n",
    "\"\"\" \n",
    "correct_files\n",
    "df1 = pd.read_csv(\"pmdata/p01/fitbit/processed/Train_calories.csv\")\n",
    "df2 = pd.read_csv(\"pmdata/p01/fitbit/processed/Test_calories.csv\")  \n",
    "dfs = []\n",
    "dfs.append(df1)\n",
    "dfs.append(df2)\n",
    "df = pd.concat(dfs)\n",
    "\"\"\"\n",
    "\n",
    "\n",
    "def apply_rle(df,wl,strd):\n",
    "\n",
    "    #df = pd.read_csv(\"pmdata/p01/fitbit/processed/Train_calories.csv\")\n",
    "    X = df2xy(df,sample_col=None,feat_col=None)\n",
    "    X=X[0].reshape(X[0].shape[0],X[0].shape[2])\n",
    "    window_length = wl\n",
    "    stride = strd\n",
    "    n_vars = 3\n",
    "    t = X\n",
    "    print(t.shape)\n",
    "    plt.plot(t)\n",
    "    plt.show()\n",
    "    #print(range(0,t.shape[1]))\n",
    "\n",
    "    print(list(range(0,t.shape[1])))\n",
    "    X,y= SlidingWindow(window_length, stride=stride,get_x=list(range(0,t.shape[1])),get_y=0)(t)\n",
    "    return X"
   ]
  },
  {
   "cell_type": "markdown",
   "metadata": {},
   "source": []
  },
  {
   "cell_type": "markdown",
   "metadata": {},
   "source": [
    "## Train Data"
   ]
  },
  {
   "cell_type": "code",
   "execution_count": 227,
   "metadata": {},
   "outputs": [
    {
     "name": "stdout",
     "output_type": "stream",
     "text": [
      "(67071, 4)\n"
     ]
    },
    {
     "data": {
      "image/png": "[encoded data removed]",
      "text/plain": [
       "<Figure size 640x480 with 1 Axes>"
      ]
     },
     "metadata": {},
     "output_type": "display_data"
    },
    {
     "name": "stdout",
     "output_type": "stream",
     "text": [
      "[0, 1, 2, 3]\n",
      "(9120, 3)\n"
     ]
    },
    {
     "data": {
      "image/png": "[encoded data removed]",
      "text/plain": [
       "<Figure size 640x480 with 1 Axes>"
      ]
     },
     "metadata": {},
     "output_type": "display_data"
    },
    {
     "name": "stdout",
     "output_type": "stream",
     "text": [
      "[0, 1, 2]\n",
      "(9147, 3)\n"
     ]
    },
    {
     "data": {
      "image/png": "[encoded data removed]",
      "text/plain": [
       "<Figure size 640x480 with 1 Axes>"
      ]
     },
     "metadata": {},
     "output_type": "display_data"
    },
    {
     "name": "stdout",
     "output_type": "stream",
     "text": [
      "[0, 1, 2]\n",
      "(9147, 3)\n"
     ]
    },
    {
     "data": {
      "image/png": "[encoded data removed]",
      "text/plain": [
       "<Figure size 640x480 with 1 Axes>"
      ]
     },
     "metadata": {},
     "output_type": "display_data"
    },
    {
     "name": "stdout",
     "output_type": "stream",
     "text": [
      "[0, 1, 2]\n",
      "(41, 9)\n",
      "[0, 1, 2, 3, 4, 5, 6, 7, 8]\n"
     ]
    }
   ],
   "source": [
    "Train_X =[]\n",
    "Train_Y =[]\n",
    "for file in correct_files:\n",
    "    df = pd.read_csv(f\"pmdata/p01/fitbit/processed/Train_{file}\")\n",
    "    if file == 'sleep_score.csv':\n",
    "        X = df2xy(df,sample_col=None,feat_col=None)\n",
    "        X=X[0].reshape(X[0].shape[0],X[0].shape[2])\n",
    "        window_length = 5\n",
    "        stride = 2\n",
    "        n_vars = 3\n",
    "        t = X\n",
    "        print(t.shape)\n",
    "\n",
    "        print(list(range(0,t.shape[1])))\n",
    "        X,y= SlidingWindow(window_length, stride=stride,get_x=list(range(0,t.shape[1])),get_y=2)(t)\n",
    "      \n",
    "        Train_Y.append(y)\n",
    "    else:\n",
    "        Train_X.append(apply_rle(df,5,2))"
   ]
  },
  {
   "cell_type": "code",
   "execution_count": 228,
   "metadata": {},
   "outputs": [
    {
     "data": {
      "text/plain": [
       "array([72., 80., 74., 78., 78., 78., 71., 80., 71., 74., 72., 69., 68.,\n",
       "       82., 74., 73., 71., 67.])"
      ]
     },
     "execution_count": 228,
     "metadata": {},
     "output_type": "execute_result"
    }
   ],
   "source": [
    "Train_Y[0]"
   ]
  },
  {
   "cell_type": "markdown",
   "metadata": {},
   "source": []
  },
  {
   "cell_type": "markdown",
   "metadata": {},
   "source": [
    "## Test Data"
   ]
  },
  {
   "cell_type": "code",
   "execution_count": 229,
   "metadata": {},
   "outputs": [
    {
     "name": "stdout",
     "output_type": "stream",
     "text": [
      "(69174, 4)\n"
     ]
    },
    {
     "data": {
      "image/png": "[encoded data removed]",
      "text/plain": [
       "<Figure size 640x480 with 1 Axes>"
      ]
     },
     "metadata": {},
     "output_type": "display_data"
    },
    {
     "name": "stdout",
     "output_type": "stream",
     "text": [
      "[0, 1, 2, 3]\n",
      "(9120, 3)\n"
     ]
    },
    {
     "data": {
      "image/png": "[encoded data removed]",
      "text/plain": [
       "<Figure size 640x480 with 1 Axes>"
      ]
     },
     "metadata": {},
     "output_type": "display_data"
    },
    {
     "name": "stdout",
     "output_type": "stream",
     "text": [
      "[0, 1, 2]\n",
      "(9125, 3)\n"
     ]
    },
    {
     "data": {
      "image/png": "[encoded data removed]",
      "text/plain": [
       "<Figure size 640x480 with 1 Axes>"
      ]
     },
     "metadata": {},
     "output_type": "display_data"
    },
    {
     "name": "stdout",
     "output_type": "stream",
     "text": [
      "[0, 1, 2]\n",
      "(9125, 3)\n"
     ]
    },
    {
     "data": {
      "image/png": "[encoded data removed]",
      "text/plain": [
       "<Figure size 640x480 with 1 Axes>"
      ]
     },
     "metadata": {},
     "output_type": "display_data"
    },
    {
     "name": "stdout",
     "output_type": "stream",
     "text": [
      "[0, 1, 2]\n",
      "(83, 9)\n",
      "[0, 1, 2, 3, 4, 5, 6, 7, 8]\n"
     ]
    }
   ],
   "source": [
    "Test_X =[]\n",
    "Test_Y =[]\n",
    "for file in correct_files:\n",
    "    df = pd.read_csv(f\"pmdata/p01/fitbit/processed/Test_{file}\")\n",
    "    if file == 'sleep_score.csv':\n",
    "        X = df2xy(df,sample_col=None,feat_col=None)\n",
    "        X=X[0].reshape(X[0].shape[0],X[0].shape[2])\n",
    "        window_length = 5\n",
    "        stride = 2\n",
    "        n_vars = 3\n",
    "        t = X\n",
    "        print(t.shape)\n",
    "\n",
    "        print(list(range(0,t.shape[1])))\n",
    "        X,y= SlidingWindow(window_length, stride=stride,get_x=list(range(0,t.shape[1])),get_y=2)(t)\n",
    "              \n",
    "        Test_Y.append(y)\n",
    "    else:\n",
    "        Test_X.append(apply_rle(df,5,2))"
   ]
  },
  {
   "cell_type": "markdown",
   "metadata": {},
   "source": [
    "## Check Train and Test Sizes"
   ]
  },
  {
   "cell_type": "code",
   "execution_count": 230,
   "metadata": {},
   "outputs": [
    {
     "data": {
      "text/plain": [
       "4"
      ]
     },
     "execution_count": 230,
     "metadata": {},
     "output_type": "execute_result"
    }
   ],
   "source": [
    "len(Train_X)"
   ]
  },
  {
   "cell_type": "code",
   "execution_count": 231,
   "metadata": {},
   "outputs": [
    {
     "name": "stdout",
     "output_type": "stream",
     "text": [
      "Train Sizes \n",
      "File Name : heart_rate.csv  (33533, 4, 5)\n",
      "File Name : calories.csv  (4558, 3, 5)\n",
      "File Name : steps.csv  (4571, 3, 5)\n",
      "File Name : distance.csv  (4571, 3, 5)\n"
     ]
    }
   ],
   "source": [
    "print(\"Train Sizes \")\n",
    "for k in range(len(Train_X)):\n",
    "    print(f'File Name : {correct_files[k]} ' ,Train_X[k].shape)"
   ]
  },
  {
   "cell_type": "code",
   "execution_count": 232,
   "metadata": {},
   "outputs": [
    {
     "name": "stdout",
     "output_type": "stream",
     "text": [
      "Train Target Sizes \n",
      "File Name : sleep_score.csv  (18,)\n"
     ]
    }
   ],
   "source": [
    "print(\"Train Target Sizes \")\n",
    "for k in range(len(Train_Y)):\n",
    "    print(f'File Name : sleep_score.csv ' ,Train_Y[k].shape)"
   ]
  },
  {
   "cell_type": "code",
   "execution_count": 233,
   "metadata": {},
   "outputs": [
    {
     "name": "stdout",
     "output_type": "stream",
     "text": [
      "Test Sizes \n",
      "File Name : heart_rate.csv  (34585, 4, 5)\n",
      "File Name : calories.csv  (4558, 3, 5)\n",
      "File Name : steps.csv  (4560, 3, 5)\n",
      "File Name : distance.csv  (4560, 3, 5)\n"
     ]
    }
   ],
   "source": [
    "print(\"Test Sizes \")\n",
    "for k in range(len(Test_X)):\n",
    "    print(f'File Name : {correct_files[k]} ' ,Test_X[k].shape)"
   ]
  },
  {
   "cell_type": "code",
   "execution_count": 234,
   "metadata": {},
   "outputs": [
    {
     "name": "stdout",
     "output_type": "stream",
     "text": [
      "Test Sizes \n",
      "File Name : sleep_score.csv  (39,)\n"
     ]
    }
   ],
   "source": [
    "print(\"Test Sizes \")\n",
    "for k in range(len(Test_Y)):\n",
    "    print(f'File Name : sleep_score.csv ' ,Test_Y[k].shape)"
   ]
  },
  {
   "cell_type": "markdown",
   "metadata": {},
   "source": [
    "## Randomly Selection of Data between [0,1]"
   ]
  },
  {
   "cell_type": "code",
   "execution_count": 210,
   "metadata": {},
   "outputs": [],
   "source": [
    "from random import *\n",
    "\n"
   ]
  },
  {
   "cell_type": "markdown",
   "metadata": {},
   "source": [
    "### Prepare Train"
   ]
  },
  {
   "cell_type": "code",
   "execution_count": 238,
   "metadata": {},
   "outputs": [],
   "source": [
    "def prepare_Train_with_Calib(cal_size,Train_X,Train_Y):\n",
    "    \"\"\" \n",
    "    \"\"\"\n",
    "    target_Train_Size = int(Train_Y[0].shape[0]*cal_size) \n",
    "    print(f\"Total {target_Train_Size} rows are selected from : sleep_score.csv\")\n",
    "\n",
    "    Train_X_rand = []\n",
    "    Train_Y_rand = []\n",
    "\n",
    "    for k in range(len(Train_X)):\n",
    "        seed(0)\n",
    "        L_size = target_Train_Size\n",
    "        L = [ randint(1,Train_X[k].shape[0]) for i in range(L_size) ]\n",
    "        Train_X_rand.append(Train_X[k][L,:,:])\n",
    "    seed(0)\n",
    "    L_size = target_Train_Size\n",
    "    L = [ randint(1,Train_Y[0].shape[0]) for i in range(L_size) ]\n",
    "    Train_Y_rand.append(Train_Y[0][L])\n",
    "    return Train_X_rand, Train_Y_rand"
   ]
  },
  {
   "cell_type": "code",
   "execution_count": 239,
   "metadata": {},
   "outputs": [
    {
     "name": "stdout",
     "output_type": "stream",
     "text": [
      "Total 9 rows are selected from : sleep_score.csv\n"
     ]
    }
   ],
   "source": [
    "train_X, train_Y=prepare_Train_with_Calib(0.5,Train_X,Train_Y)"
   ]
  },
  {
   "cell_type": "code",
   "execution_count": 240,
   "metadata": {},
   "outputs": [
    {
     "data": {
      "text/plain": [
       "(9, 3, 5)"
      ]
     },
     "execution_count": 240,
     "metadata": {},
     "output_type": "execute_result"
    }
   ],
   "source": [
    "train_X[3].shape"
   ]
  },
  {
   "cell_type": "code",
   "execution_count": 241,
   "metadata": {},
   "outputs": [
    {
     "data": {
      "text/plain": [
       "numpy.ndarray"
      ]
     },
     "execution_count": 241,
     "metadata": {},
     "output_type": "execute_result"
    }
   ],
   "source": [
    "type(train_X[3])"
   ]
  },
  {
   "cell_type": "code",
   "execution_count": 242,
   "metadata": {},
   "outputs": [
    {
     "data": {
      "text/plain": [
       "(9,)"
      ]
     },
     "execution_count": 242,
     "metadata": {},
     "output_type": "execute_result"
    }
   ],
   "source": [
    "\n",
    "train_Y[0].shape"
   ]
  },
  {
   "cell_type": "code",
   "execution_count": 243,
   "metadata": {},
   "outputs": [
    {
     "data": {
      "text/plain": [
       "((9, 4, 5), (9, 3, 5))"
      ]
     },
     "execution_count": 243,
     "metadata": {},
     "output_type": "execute_result"
    }
   ],
   "source": [
    "train_X[0].shape, train_X[1].shape"
   ]
  },
  {
   "cell_type": "markdown",
   "metadata": {},
   "source": [
    "### Join Column Wise Data"
   ]
  },
  {
   "cell_type": "code",
   "execution_count": 244,
   "metadata": {},
   "outputs": [
    {
     "name": "stdout",
     "output_type": "stream",
     "text": [
      "Updated Shape :  (9, 10, 5)\n",
      "Updated Shape :  (9, 13, 5)\n"
     ]
    }
   ],
   "source": [
    "Joined_train_X=np.concatenate((train_X[0], train_X[1]), axis=1)\n",
    "for k in range(2,len(train_X)):\n",
    "    Joined_train_X=np.concatenate((Joined_train_X,train_X[k]),axis=1)\n",
    "    print(\"Updated Shape : \",Joined_train_X.shape)"
   ]
  },
  {
   "cell_type": "code",
   "execution_count": 246,
   "metadata": {},
   "outputs": [],
   "source": [
    "Joined_train_Y = train_Y[0]"
   ]
  },
  {
   "cell_type": "code",
   "execution_count": 245,
   "metadata": {},
   "outputs": [
    {
     "data": {
      "text/plain": [
       "(9, 13, 5)"
      ]
     },
     "execution_count": 245,
     "metadata": {},
     "output_type": "execute_result"
    }
   ],
   "source": [
    "Joined_train_X.shape"
   ]
  },
  {
   "cell_type": "code",
   "execution_count": 249,
   "metadata": {},
   "outputs": [
    {
     "data": {
      "text/plain": [
       "((9, 13, 5), (9,))"
      ]
     },
     "execution_count": 249,
     "metadata": {},
     "output_type": "execute_result"
    }
   ],
   "source": [
    "Joined_train_X.shape,Joined_train_Y.shape"
   ]
  },
  {
   "cell_type": "markdown",
   "metadata": {},
   "source": [
    "### Prepare Test"
   ]
  },
  {
   "cell_type": "code",
   "execution_count": 251,
   "metadata": {},
   "outputs": [],
   "source": [
    "def prepare_Test_with_Calib(cal_size,Test_X,Test_Y):\n",
    "    \"\"\" \n",
    "    \"\"\"\n",
    "    target_Test_Size = int(Test_Y[0].shape[0]*cal_size) \n",
    "    print(f\"Total {target_Test_Size} rows are selected from : sleep_score.csv\")\n",
    "\n",
    "    Test_X_rand = []\n",
    "    Test_Y_rand = []\n",
    "\n",
    "    for k in range(len(Test_X)):\n",
    "        seed(0)\n",
    "        L_size = target_Test_Size\n",
    "        L = [ randint(1,Test_X[k].shape[0]) for i in range(L_size) ]\n",
    "        Test_X_rand.append(Test_X[k][L,:,:])\n",
    "    seed(0)\n",
    "    L_size = target_Test_Size\n",
    "    L = [ randint(1,Test_Y[0].shape[0]) for i in range(L_size) ]\n",
    "    Test_Y_rand.append(Test_Y[0][L])\n",
    "    return Test_X_rand, Test_Y_rand"
   ]
  },
  {
   "cell_type": "code",
   "execution_count": 252,
   "metadata": {},
   "outputs": [
    {
     "name": "stdout",
     "output_type": "stream",
     "text": [
      "Total 19 rows are selected from : sleep_score.csv\n"
     ]
    }
   ],
   "source": [
    "test_X, test_Y=prepare_Test_with_Calib(0.5,Test_X,Test_Y)"
   ]
  },
  {
   "cell_type": "code",
   "execution_count": 253,
   "metadata": {},
   "outputs": [
    {
     "data": {
      "text/plain": [
       "((19, 4, 5), (19, 3, 5))"
      ]
     },
     "execution_count": 253,
     "metadata": {},
     "output_type": "execute_result"
    }
   ],
   "source": [
    "test_X[0].shape, test_X[1].shape"
   ]
  },
  {
   "cell_type": "markdown",
   "metadata": {},
   "source": [
    "### Join Column Wise Data"
   ]
  },
  {
   "cell_type": "code",
   "execution_count": 254,
   "metadata": {},
   "outputs": [
    {
     "name": "stdout",
     "output_type": "stream",
     "text": [
      "Updated Shape :  (19, 10, 5)\n",
      "Updated Shape :  (19, 13, 5)\n"
     ]
    }
   ],
   "source": [
    "Joined_test_X=np.concatenate((test_X[0], test_X[1]), axis=1)\n",
    "for k in range(2,len(test_X)):\n",
    "    Joined_test_X=np.concatenate((Joined_test_X,test_X[k]),axis=1)\n",
    "    print(\"Updated Shape : \",Joined_test_X.shape)"
   ]
  },
  {
   "cell_type": "code",
   "execution_count": 255,
   "metadata": {},
   "outputs": [],
   "source": [
    "Joined_test_Y = test_Y[0]"
   ]
  },
  {
   "cell_type": "code",
   "execution_count": 256,
   "metadata": {},
   "outputs": [
    {
     "data": {
      "text/plain": [
       "(19, 13, 5)"
      ]
     },
     "execution_count": 256,
     "metadata": {},
     "output_type": "execute_result"
    }
   ],
   "source": [
    "Joined_test_X.shape"
   ]
  },
  {
   "cell_type": "code",
   "execution_count": 257,
   "metadata": {},
   "outputs": [
    {
     "data": {
      "text/plain": [
       "((19, 13, 5), (19,))"
      ]
     },
     "execution_count": 257,
     "metadata": {},
     "output_type": "execute_result"
    }
   ],
   "source": [
    "Joined_test_X.shape,Joined_test_Y.shape"
   ]
  },
  {
   "cell_type": "markdown",
   "metadata": {},
   "source": [
    "## Final Check Shape of Train and Test"
   ]
  },
  {
   "cell_type": "code",
   "execution_count": 258,
   "metadata": {},
   "outputs": [
    {
     "name": "stdout",
     "output_type": "stream",
     "text": [
      "Train_X Shape : (9, 13, 5)\n",
      "Train_Y Shape : (9,)\n",
      "Test_X Shape : (19, 13, 5)\n",
      "Test_Y Shape : (19,)\n"
     ]
    }
   ],
   "source": [
    "print(f'Train_X Shape : {Joined_train_X.shape}')\n",
    "print(f'Train_Y Shape : {Joined_train_Y.shape}')\n",
    "print(f'Test_X Shape : {Joined_test_X.shape}')\n",
    "print(f'Test_Y Shape : {Joined_test_Y.shape}')"
   ]
  },
  {
   "cell_type": "code",
   "execution_count": 260,
   "metadata": {},
   "outputs": [
    {
     "data": {
      "text/plain": [
       "9"
      ]
     },
     "execution_count": 260,
     "metadata": {},
     "output_type": "execute_result"
    }
   ],
   "source": [
    "len(Joined_train_X)"
   ]
  },
  {
   "cell_type": "markdown",
   "metadata": {},
   "source": [
    "## Apply Categorisation \n",
    ">(Regresstion to Class)"
   ]
  },
  {
   "cell_type": "code",
   "execution_count": 262,
   "metadata": {},
   "outputs": [],
   "source": [
    "def apply_categorise(Data_Y):\n",
    "    for k in range(0,len(Data_Y)):\n",
    "        if(Data_Y[k]<=100 and Data_Y[k]>=90 ):\n",
    "            Data_Y[k]=4\n",
    "        elif(Data_Y[k]<=89 and Data_Y[k]>=80 ):\n",
    "            Data_Y[k]=3\n",
    "        elif(Data_Y[k]<=79 and Data_Y[k]>=60 ):\n",
    "            Data_Y[k]=2\n",
    "        else:\n",
    "            Data_Y[k]=1\n",
    "    return Data_Y"
   ]
  },
  {
   "cell_type": "code",
   "execution_count": 263,
   "metadata": {},
   "outputs": [],
   "source": [
    "Joined_train_Y = apply_categorise(Joined_train_Y)"
   ]
  },
  {
   "cell_type": "code",
   "execution_count": 265,
   "metadata": {},
   "outputs": [],
   "source": [
    "Joined_test_Y = apply_categorise(Joined_test_Y)"
   ]
  },
  {
   "cell_type": "code",
   "execution_count": null,
   "metadata": {},
   "outputs": [],
   "source": []
  },
  {
   "cell_type": "markdown",
   "metadata": {},
   "source": [
    "## Further"
   ]
  },
  {
   "cell_type": "code",
   "execution_count": 266,
   "metadata": {},
   "outputs": [
    {
     "data": {
      "image/png": "[encoded data removed]",
      "text/plain": [
       "<Figure size 1600x50 with 1 Axes>"
      ]
     },
     "metadata": {},
     "output_type": "display_data"
    },
    {
     "data": {
      "text/plain": [
       "(#9) [(TSTensor(vars:13, len:5, device=cpu, dtype=torch.float32), TensorCategory(1)), (TSTensor(vars:13, len:5, device=cpu, dtype=torch.float32), TensorCategory(0)), (TSTensor(vars:13, len:5, device=cpu, dtype=torch.float32), TensorCategory(0)), (TSTensor(vars:13, len:5, device=cpu, dtype=torch.float32), TensorCategory(0)), (TSTensor(vars:13, len:5, device=cpu, dtype=torch.float32), TensorCategory(0)), (TSTensor(vars:13, len:5, device=cpu, dtype=torch.float32), TensorCategory(0)), (TSTensor(vars:13, len:5, device=cpu, dtype=torch.float32), TensorCategory(1)), (TSTensor(vars:13, len:5, device=cpu, dtype=torch.float32), TensorCategory(0)), (TSTensor(vars:13, len:5, device=cpu, dtype=torch.float32), TensorCategory(0))] ...]"
      ]
     },
     "execution_count": 266,
     "metadata": {},
     "output_type": "execute_result"
    }
   ],
   "source": [
    "splits = get_splits(Joined_train_Y, valid_size=.2, stratify=True, random_state=23, shuffle=False)\n",
    "tfms  = [None, [Categorize()]]\n",
    "dsets = TSDatasets(Joined_train_X, Joined_train_Y, tfms=tfms, splits=splits, inplace=True)\n",
    "dsets"
   ]
  },
  {
   "cell_type": "markdown",
   "metadata": {},
   "source": []
  },
  {
   "cell_type": "code",
   "execution_count": 267,
   "metadata": {},
   "outputs": [],
   "source": [
    "dls = TSDataLoaders.from_dsets(dsets.train, dsets.valid, bs=2, batch_tfms=[TSStandardize()], num_workers=0)"
   ]
  },
  {
   "cell_type": "code",
   "execution_count": 268,
   "metadata": {},
   "outputs": [
    {
     "data": {
      "image/png": "[encoded data removed]",
      "text/plain": [
       "<Figure size 600x800 with 2 Axes>"
      ]
     },
     "metadata": {},
     "output_type": "display_data"
    }
   ],
   "source": [
    "dls.show_batch(sharey=True)"
   ]
  },
  {
   "cell_type": "code",
   "execution_count": 269,
   "metadata": {},
   "outputs": [
    {
     "data": {
      "text/plain": [
       "Path('models/stage0.pth')"
      ]
     },
     "execution_count": 269,
     "metadata": {},
     "output_type": "execute_result"
    }
   ],
   "source": [
    "model = InceptionTime(dls.vars, dls.c)\n",
    "learn = Learner(dls, model, metrics=accuracy)\n",
    "learn.save('stage0')"
   ]
  },
  {
   "cell_type": "code",
   "execution_count": 270,
   "metadata": {},
   "outputs": [
    {
     "data": {
      "text/html": [
       "\n",
       "<style>\n",
       "    /* Turns off some styling */\n",
       "    progress {\n",
       "        /* gets rid of default border in Firefox and Opera. */\n",
       "        border: none;\n",
       "        /* Needs to be in here for Safari polyfill so background images work as expected. */\n",
       "        background-size: auto;\n",
       "    }\n",
       "    progress:not([value]), progress:not([value])::-webkit-progress-bar {\n",
       "        background: repeating-linear-gradient(45deg, #7e7e7e, #7e7e7e 10px, #5c5c5c 10px, #5c5c5c 20px);\n",
       "    }\n",
       "    .progress-bar-interrupted, .progress-bar-interrupted::-webkit-progress-bar {\n",
       "        background: #F44336;\n",
       "    }\n",
       "</style>\n"
      ],
      "text/plain": [
       "<IPython.core.display.HTML object>"
      ]
     },
     "metadata": {},
     "output_type": "display_data"
    },
    {
     "data": {
      "text/html": [],
      "text/plain": [
       "<IPython.core.display.HTML object>"
      ]
     },
     "metadata": {},
     "output_type": "display_data"
    },
    {
     "data": {
      "text/plain": [
       "SuggestedLRs(valley=0.0002754228771664202)"
      ]
     },
     "execution_count": 270,
     "metadata": {},
     "output_type": "execute_result"
    },
    {
     "data": {
      "image/png": "[encoded data removed]",
      "text/plain": [
       "<Figure size 640x480 with 1 Axes>"
      ]
     },
     "metadata": {},
     "output_type": "display_data"
    }
   ],
   "source": [
    "learn.load('stage0')\n",
    "learn.lr_find()"
   ]
  },
  {
   "cell_type": "code",
   "execution_count": 271,
   "metadata": {},
   "outputs": [
    {
     "data": {
      "text/html": [
       "\n",
       "<style>\n",
       "    /* Turns off some styling */\n",
       "    progress {\n",
       "        /* gets rid of default border in Firefox and Opera. */\n",
       "        border: none;\n",
       "        /* Needs to be in here for Safari polyfill so background images work as expected. */\n",
       "        background-size: auto;\n",
       "    }\n",
       "    progress:not([value]), progress:not([value])::-webkit-progress-bar {\n",
       "        background: repeating-linear-gradient(45deg, #7e7e7e, #7e7e7e 10px, #5c5c5c 10px, #5c5c5c 20px);\n",
       "    }\n",
       "    .progress-bar-interrupted, .progress-bar-interrupted::-webkit-progress-bar {\n",
       "        background: #F44336;\n",
       "    }\n",
       "</style>\n"
      ],
      "text/plain": [
       "<IPython.core.display.HTML object>"
      ]
     },
     "metadata": {},
     "output_type": "display_data"
    },
    {
     "data": {
      "text/html": [
       "<table border=\"1\" class=\"dataframe\">\n",
       "  <thead>\n",
       "    <tr style=\"text-align: left;\">\n",
       "      <th>epoch</th>\n",
       "      <th>train_loss</th>\n",
       "      <th>valid_loss</th>\n",
       "      <th>accuracy</th>\n",
       "      <th>time</th>\n",
       "    </tr>\n",
       "  </thead>\n",
       "  <tbody>\n",
       "    <tr>\n",
       "      <td>0</td>\n",
       "      <td>0.635751</td>\n",
       "      <td>0.621375</td>\n",
       "      <td>1.000000</td>\n",
       "      <td>00:00</td>\n",
       "    </tr>\n",
       "    <tr>\n",
       "      <td>1</td>\n",
       "      <td>0.602335</td>\n",
       "      <td>0.628199</td>\n",
       "      <td>1.000000</td>\n",
       "      <td>00:00</td>\n",
       "    </tr>\n",
       "    <tr>\n",
       "      <td>2</td>\n",
       "      <td>0.606813</td>\n",
       "      <td>0.625630</td>\n",
       "      <td>1.000000</td>\n",
       "      <td>00:00</td>\n",
       "    </tr>\n",
       "    <tr>\n",
       "      <td>3</td>\n",
       "      <td>0.570600</td>\n",
       "      <td>0.616675</td>\n",
       "      <td>1.000000</td>\n",
       "      <td>00:00</td>\n",
       "    </tr>\n",
       "    <tr>\n",
       "      <td>4</td>\n",
       "      <td>0.615438</td>\n",
       "      <td>0.596257</td>\n",
       "      <td>1.000000</td>\n",
       "      <td>00:00</td>\n",
       "    </tr>\n",
       "    <tr>\n",
       "      <td>5</td>\n",
       "      <td>0.583249</td>\n",
       "      <td>0.556467</td>\n",
       "      <td>1.000000</td>\n",
       "      <td>00:00</td>\n",
       "    </tr>\n",
       "    <tr>\n",
       "      <td>6</td>\n",
       "      <td>0.596580</td>\n",
       "      <td>0.514235</td>\n",
       "      <td>1.000000</td>\n",
       "      <td>00:00</td>\n",
       "    </tr>\n",
       "    <tr>\n",
       "      <td>7</td>\n",
       "      <td>0.594608</td>\n",
       "      <td>0.452770</td>\n",
       "      <td>1.000000</td>\n",
       "      <td>00:00</td>\n",
       "    </tr>\n",
       "    <tr>\n",
       "      <td>8</td>\n",
       "      <td>0.578431</td>\n",
       "      <td>0.457982</td>\n",
       "      <td>1.000000</td>\n",
       "      <td>00:00</td>\n",
       "    </tr>\n",
       "    <tr>\n",
       "      <td>9</td>\n",
       "      <td>0.574498</td>\n",
       "      <td>0.394290</td>\n",
       "      <td>1.000000</td>\n",
       "      <td>00:00</td>\n",
       "    </tr>\n",
       "    <tr>\n",
       "      <td>10</td>\n",
       "      <td>0.585012</td>\n",
       "      <td>0.380187</td>\n",
       "      <td>1.000000</td>\n",
       "      <td>00:00</td>\n",
       "    </tr>\n",
       "    <tr>\n",
       "      <td>11</td>\n",
       "      <td>0.584996</td>\n",
       "      <td>0.322529</td>\n",
       "      <td>1.000000</td>\n",
       "      <td>00:00</td>\n",
       "    </tr>\n",
       "    <tr>\n",
       "      <td>12</td>\n",
       "      <td>0.575675</td>\n",
       "      <td>0.288316</td>\n",
       "      <td>1.000000</td>\n",
       "      <td>00:00</td>\n",
       "    </tr>\n",
       "    <tr>\n",
       "      <td>13</td>\n",
       "      <td>0.563972</td>\n",
       "      <td>0.329208</td>\n",
       "      <td>1.000000</td>\n",
       "      <td>00:00</td>\n",
       "    </tr>\n",
       "    <tr>\n",
       "      <td>14</td>\n",
       "      <td>0.564148</td>\n",
       "      <td>0.403917</td>\n",
       "      <td>1.000000</td>\n",
       "      <td>00:00</td>\n",
       "    </tr>\n",
       "    <tr>\n",
       "      <td>15</td>\n",
       "      <td>0.546406</td>\n",
       "      <td>0.407244</td>\n",
       "      <td>1.000000</td>\n",
       "      <td>00:00</td>\n",
       "    </tr>\n",
       "    <tr>\n",
       "      <td>16</td>\n",
       "      <td>0.569710</td>\n",
       "      <td>0.365685</td>\n",
       "      <td>1.000000</td>\n",
       "      <td>00:00</td>\n",
       "    </tr>\n",
       "    <tr>\n",
       "      <td>17</td>\n",
       "      <td>0.566666</td>\n",
       "      <td>0.318482</td>\n",
       "      <td>1.000000</td>\n",
       "      <td>00:00</td>\n",
       "    </tr>\n",
       "    <tr>\n",
       "      <td>18</td>\n",
       "      <td>0.558542</td>\n",
       "      <td>0.313611</td>\n",
       "      <td>1.000000</td>\n",
       "      <td>00:00</td>\n",
       "    </tr>\n",
       "    <tr>\n",
       "      <td>19</td>\n",
       "      <td>0.550648</td>\n",
       "      <td>0.306696</td>\n",
       "      <td>1.000000</td>\n",
       "      <td>00:00</td>\n",
       "    </tr>\n",
       "    <tr>\n",
       "      <td>20</td>\n",
       "      <td>0.548337</td>\n",
       "      <td>0.310206</td>\n",
       "      <td>1.000000</td>\n",
       "      <td>00:00</td>\n",
       "    </tr>\n",
       "    <tr>\n",
       "      <td>21</td>\n",
       "      <td>0.553798</td>\n",
       "      <td>0.316085</td>\n",
       "      <td>1.000000</td>\n",
       "      <td>00:00</td>\n",
       "    </tr>\n",
       "    <tr>\n",
       "      <td>22</td>\n",
       "      <td>0.558173</td>\n",
       "      <td>0.323660</td>\n",
       "      <td>1.000000</td>\n",
       "      <td>00:00</td>\n",
       "    </tr>\n",
       "    <tr>\n",
       "      <td>23</td>\n",
       "      <td>0.556307</td>\n",
       "      <td>0.336750</td>\n",
       "      <td>1.000000</td>\n",
       "      <td>00:00</td>\n",
       "    </tr>\n",
       "    <tr>\n",
       "      <td>24</td>\n",
       "      <td>0.559320</td>\n",
       "      <td>0.344778</td>\n",
       "      <td>1.000000</td>\n",
       "      <td>00:00</td>\n",
       "    </tr>\n",
       "  </tbody>\n",
       "</table>"
      ],
      "text/plain": [
       "<IPython.core.display.HTML object>"
      ]
     },
     "metadata": {},
     "output_type": "display_data"
    },
    {
     "data": {
      "text/plain": [
       "Path('models/stage1.pth')"
      ]
     },
     "execution_count": 271,
     "metadata": {},
     "output_type": "execute_result"
    }
   ],
   "source": [
    "learn.fit_one_cycle(25, lr_max=1e-3)\n",
    "learn.save('stage1')"
   ]
  },
  {
   "cell_type": "code",
   "execution_count": 272,
   "metadata": {},
   "outputs": [
    {
     "data": {
      "image/png": "[encoded data removed]",
      "text/plain": [
       "<Figure size 2000x400 with 3 Axes>"
      ]
     },
     "metadata": {},
     "output_type": "display_data"
    }
   ],
   "source": [
    "learn.recorder.plot_metrics()"
   ]
  },
  {
   "cell_type": "code",
   "execution_count": 273,
   "metadata": {},
   "outputs": [],
   "source": [
    "learn.save_all(path='export', dls_fname='dls', model_fname='model', learner_fname='learner')"
   ]
  },
  {
   "cell_type": "code",
   "execution_count": 274,
   "metadata": {},
   "outputs": [],
   "source": [
    "del learn, dsets, dls"
   ]
  },
  {
   "cell_type": "code",
   "execution_count": 275,
   "metadata": {},
   "outputs": [
    {
     "data": {
      "text/plain": [
       "(TSTensor(samples:1, vars:13, len:5, device=cpu, dtype=torch.float32),\n",
       " TensorCategory([0]))"
      ]
     },
     "execution_count": 275,
     "metadata": {},
     "output_type": "execute_result"
    }
   ],
   "source": [
    "learn = load_learner_all(path='export', dls_fname='dls', model_fname='model', learner_fname='learner')\n",
    "dls = learn.dls\n",
    "valid_dl = dls.valid\n",
    "b = next(iter(valid_dl))\n",
    "b"
   ]
  },
  {
   "cell_type": "code",
   "execution_count": 276,
   "metadata": {},
   "outputs": [
    {
     "data": {
      "text/html": [
       "\n",
       "<style>\n",
       "    /* Turns off some styling */\n",
       "    progress {\n",
       "        /* gets rid of default border in Firefox and Opera. */\n",
       "        border: none;\n",
       "        /* Needs to be in here for Safari polyfill so background images work as expected. */\n",
       "        background-size: auto;\n",
       "    }\n",
       "    progress:not([value]), progress:not([value])::-webkit-progress-bar {\n",
       "        background: repeating-linear-gradient(45deg, #7e7e7e, #7e7e7e 10px, #5c5c5c 10px, #5c5c5c 20px);\n",
       "    }\n",
       "    .progress-bar-interrupted, .progress-bar-interrupted::-webkit-progress-bar {\n",
       "        background: #F44336;\n",
       "    }\n",
       "</style>\n"
      ],
      "text/plain": [
       "<IPython.core.display.HTML object>"
      ]
     },
     "metadata": {},
     "output_type": "display_data"
    },
    {
     "data": {
      "text/html": [],
      "text/plain": [
       "<IPython.core.display.HTML object>"
      ]
     },
     "metadata": {},
     "output_type": "display_data"
    },
    {
     "data": {
      "text/plain": [
       "(tensor([[0.7084, 0.2916]]), tensor([0]), tensor([0]))"
      ]
     },
     "execution_count": 276,
     "metadata": {},
     "output_type": "execute_result"
    }
   ],
   "source": [
    "valid_probas, valid_targets, valid_preds = learn.get_preds(dl=valid_dl, with_decoded=True)\n",
    "valid_probas, valid_targets, valid_preds"
   ]
  },
  {
   "cell_type": "code",
   "execution_count": 277,
   "metadata": {},
   "outputs": [
    {
     "data": {
      "text/plain": [
       "tensor(1.)"
      ]
     },
     "execution_count": 277,
     "metadata": {},
     "output_type": "execute_result"
    }
   ],
   "source": [
    "(valid_targets == valid_preds).float().mean()"
   ]
  },
  {
   "cell_type": "code",
   "execution_count": 278,
   "metadata": {},
   "outputs": [
    {
     "data": {
      "text/html": [
       "\n",
       "<style>\n",
       "    /* Turns off some styling */\n",
       "    progress {\n",
       "        /* gets rid of default border in Firefox and Opera. */\n",
       "        border: none;\n",
       "        /* Needs to be in here for Safari polyfill so background images work as expected. */\n",
       "        background-size: auto;\n",
       "    }\n",
       "    progress:not([value]), progress:not([value])::-webkit-progress-bar {\n",
       "        background: repeating-linear-gradient(45deg, #7e7e7e, #7e7e7e 10px, #5c5c5c 10px, #5c5c5c 20px);\n",
       "    }\n",
       "    .progress-bar-interrupted, .progress-bar-interrupted::-webkit-progress-bar {\n",
       "        background: #F44336;\n",
       "    }\n",
       "</style>\n"
      ],
      "text/plain": [
       "<IPython.core.display.HTML object>"
      ]
     },
     "metadata": {},
     "output_type": "display_data"
    },
    {
     "data": {
      "text/html": [],
      "text/plain": [
       "<IPython.core.display.HTML object>"
      ]
     },
     "metadata": {},
     "output_type": "display_data"
    },
    {
     "data": {
      "image/png": "[encoded data removed]",
      "text/plain": [
       "<Figure size 1800x1200 with 3 Axes>"
      ]
     },
     "metadata": {},
     "output_type": "display_data"
    }
   ],
   "source": [
    "learn.show_results()"
   ]
  },
  {
   "cell_type": "code",
   "execution_count": 279,
   "metadata": {},
   "outputs": [
    {
     "data": {
      "text/html": [
       "\n",
       "<style>\n",
       "    /* Turns off some styling */\n",
       "    progress {\n",
       "        /* gets rid of default border in Firefox and Opera. */\n",
       "        border: none;\n",
       "        /* Needs to be in here for Safari polyfill so background images work as expected. */\n",
       "        background-size: auto;\n",
       "    }\n",
       "    progress:not([value]), progress:not([value])::-webkit-progress-bar {\n",
       "        background: repeating-linear-gradient(45deg, #7e7e7e, #7e7e7e 10px, #5c5c5c 10px, #5c5c5c 20px);\n",
       "    }\n",
       "    .progress-bar-interrupted, .progress-bar-interrupted::-webkit-progress-bar {\n",
       "        background: #F44336;\n",
       "    }\n",
       "</style>\n"
      ],
      "text/plain": [
       "<IPython.core.display.HTML object>"
      ]
     },
     "metadata": {},
     "output_type": "display_data"
    },
    {
     "data": {
      "text/html": [],
      "text/plain": [
       "<IPython.core.display.HTML object>"
      ]
     },
     "metadata": {},
     "output_type": "display_data"
    },
    {
     "data": {
      "image/png": "[encoded data removed]",
      "text/plain": [
       "<Figure size 600x600 with 1 Axes>"
      ]
     },
     "metadata": {},
     "output_type": "display_data"
    }
   ],
   "source": [
    "learn.show_probas()"
   ]
  },
  {
   "cell_type": "code",
   "execution_count": 280,
   "metadata": {},
   "outputs": [
    {
     "data": {
      "text/html": [
       "\n",
       "<style>\n",
       "    /* Turns off some styling */\n",
       "    progress {\n",
       "        /* gets rid of default border in Firefox and Opera. */\n",
       "        border: none;\n",
       "        /* Needs to be in here for Safari polyfill so background images work as expected. */\n",
       "        background-size: auto;\n",
       "    }\n",
       "    progress:not([value]), progress:not([value])::-webkit-progress-bar {\n",
       "        background: repeating-linear-gradient(45deg, #7e7e7e, #7e7e7e 10px, #5c5c5c 10px, #5c5c5c 20px);\n",
       "    }\n",
       "    .progress-bar-interrupted, .progress-bar-interrupted::-webkit-progress-bar {\n",
       "        background: #F44336;\n",
       "    }\n",
       "</style>\n"
      ],
      "text/plain": [
       "<IPython.core.display.HTML object>"
      ]
     },
     "metadata": {},
     "output_type": "display_data"
    },
    {
     "data": {
      "text/html": [],
      "text/plain": [
       "<IPython.core.display.HTML object>"
      ]
     },
     "metadata": {},
     "output_type": "display_data"
    },
    {
     "data": {
      "text/html": [
       "\n",
       "<style>\n",
       "    /* Turns off some styling */\n",
       "    progress {\n",
       "        /* gets rid of default border in Firefox and Opera. */\n",
       "        border: none;\n",
       "        /* Needs to be in here for Safari polyfill so background images work as expected. */\n",
       "        background-size: auto;\n",
       "    }\n",
       "    progress:not([value]), progress:not([value])::-webkit-progress-bar {\n",
       "        background: repeating-linear-gradient(45deg, #7e7e7e, #7e7e7e 10px, #5c5c5c 10px, #5c5c5c 20px);\n",
       "    }\n",
       "    .progress-bar-interrupted, .progress-bar-interrupted::-webkit-progress-bar {\n",
       "        background: #F44336;\n",
       "    }\n",
       "</style>\n"
      ],
      "text/plain": [
       "<IPython.core.display.HTML object>"
      ]
     },
     "metadata": {},
     "output_type": "display_data"
    },
    {
     "data": {
      "text/html": [],
      "text/plain": [
       "<IPython.core.display.HTML object>"
      ]
     },
     "metadata": {},
     "output_type": "display_data"
    },
    {
     "data": {
      "image/png": "[encoded data removed]",
      "text/plain": [
       "<Figure size 640x480 with 1 Axes>"
      ]
     },
     "metadata": {},
     "output_type": "display_data"
    }
   ],
   "source": [
    "interp = ClassificationInterpretation.from_learner(learn)\n",
    "interp.plot_confusion_matrix()"
   ]
  },
  {
   "cell_type": "code",
   "execution_count": 281,
   "metadata": {},
   "outputs": [
    {
     "data": {
      "text/html": [
       "\n",
       "<style>\n",
       "    /* Turns off some styling */\n",
       "    progress {\n",
       "        /* gets rid of default border in Firefox and Opera. */\n",
       "        border: none;\n",
       "        /* Needs to be in here for Safari polyfill so background images work as expected. */\n",
       "        background-size: auto;\n",
       "    }\n",
       "    progress:not([value]), progress:not([value])::-webkit-progress-bar {\n",
       "        background: repeating-linear-gradient(45deg, #7e7e7e, #7e7e7e 10px, #5c5c5c 10px, #5c5c5c 20px);\n",
       "    }\n",
       "    .progress-bar-interrupted, .progress-bar-interrupted::-webkit-progress-bar {\n",
       "        background: #F44336;\n",
       "    }\n",
       "</style>\n"
      ],
      "text/plain": [
       "<IPython.core.display.HTML object>"
      ]
     },
     "metadata": {},
     "output_type": "display_data"
    },
    {
     "data": {
      "text/html": [],
      "text/plain": [
       "<IPython.core.display.HTML object>"
      ]
     },
     "metadata": {},
     "output_type": "display_data"
    },
    {
     "data": {
      "text/plain": [
       "[]"
      ]
     },
     "execution_count": 281,
     "metadata": {},
     "output_type": "execute_result"
    }
   ],
   "source": [
    "interp.most_confused(min_val=3)"
   ]
  },
  {
   "cell_type": "code",
   "execution_count": 283,
   "metadata": {},
   "outputs": [
    {
     "data": {
      "text/plain": [
       "(TSTensor(samples:1, vars:13, len:5, device=cpu, dtype=torch.float32),\n",
       " TensorCategory([0]))"
      ]
     },
     "execution_count": 283,
     "metadata": {},
     "output_type": "execute_result"
    }
   ],
   "source": [
    "# Labelled test data\n",
    "test_ds = valid_dl.dataset.add_test(Joined_test_X, Joined_test_Y)# In this case I'll use X and y, but this would be your test data\n",
    "test_dl = valid_dl.new(test_ds)\n",
    "next(iter(test_dl))"
   ]
  },
  {
   "cell_type": "code",
   "execution_count": 284,
   "metadata": {},
   "outputs": [
    {
     "data": {
      "text/html": [
       "\n",
       "<style>\n",
       "    /* Turns off some styling */\n",
       "    progress {\n",
       "        /* gets rid of default border in Firefox and Opera. */\n",
       "        border: none;\n",
       "        /* Needs to be in here for Safari polyfill so background images work as expected. */\n",
       "        background-size: auto;\n",
       "    }\n",
       "    progress:not([value]), progress:not([value])::-webkit-progress-bar {\n",
       "        background: repeating-linear-gradient(45deg, #7e7e7e, #7e7e7e 10px, #5c5c5c 10px, #5c5c5c 20px);\n",
       "    }\n",
       "    .progress-bar-interrupted, .progress-bar-interrupted::-webkit-progress-bar {\n",
       "        background: #F44336;\n",
       "    }\n",
       "</style>\n"
      ],
      "text/plain": [
       "<IPython.core.display.HTML object>"
      ]
     },
     "metadata": {},
     "output_type": "display_data"
    },
    {
     "data": {
      "text/html": [],
      "text/plain": [
       "<IPython.core.display.HTML object>"
      ]
     },
     "metadata": {},
     "output_type": "display_data"
    },
    {
     "data": {
      "text/plain": [
       "(tensor([[5.8106e-01, 4.1894e-01],\n",
       "         [6.5690e-01, 3.4310e-01],\n",
       "         [9.9432e-01, 5.6828e-03],\n",
       "         [7.4704e-01, 2.5296e-01],\n",
       "         [7.2931e-01, 2.7069e-01],\n",
       "         [7.2138e-01, 2.7862e-01],\n",
       "         [6.2614e-01, 3.7386e-01],\n",
       "         [4.8464e-01, 5.1536e-01],\n",
       "         [7.3154e-01, 2.6846e-01],\n",
       "         [5.2530e-01, 4.7470e-01],\n",
       "         [8.6010e-01, 1.3990e-01],\n",
       "         [7.2461e-01, 2.7539e-01],\n",
       "         [9.7437e-01, 2.5625e-02],\n",
       "         [6.3789e-01, 3.6211e-01],\n",
       "         [9.7460e-01, 2.5398e-02],\n",
       "         [9.8604e-01, 1.3965e-02],\n",
       "         [7.7468e-01, 2.2532e-01],\n",
       "         [1.0000e+00, 4.6474e-06],\n",
       "         [5.0946e-01, 4.9054e-01]]),\n",
       " tensor([0, 0, 0, 0, 0, 0, 0, 0, 0, 0, 0, 0, 0, 0, 0, 0, 0, 0, 0]),\n",
       " tensor([0, 0, 0, 0, 0, 0, 0, 1, 0, 0, 0, 0, 0, 0, 0, 0, 0, 0, 0]))"
      ]
     },
     "execution_count": 284,
     "metadata": {},
     "output_type": "execute_result"
    }
   ],
   "source": [
    "test_probas, test_targets, test_preds = learn.get_preds(dl=test_dl, with_decoded=True, save_preds=None, save_targs=None)\n",
    "test_probas, test_targets, test_preds"
   ]
  },
  {
   "cell_type": "code",
   "execution_count": 285,
   "metadata": {},
   "outputs": [
    {
     "name": "stdout",
     "output_type": "stream",
     "text": [
      "accuracy:   0.947368\n"
     ]
    }
   ],
   "source": [
    "print(f'accuracy: {skm.accuracy_score(test_targets, test_preds):10.6f}')"
   ]
  },
  {
   "cell_type": "code",
   "execution_count": null,
   "metadata": {},
   "outputs": [],
   "source": []
  }
 ],
 "metadata": {
  "kernelspec": {
   "display_name": "Python 3",
   "language": "python",
   "name": "python3"
  },
  "language_info": {
   "codemirror_mode": {
    "name": "ipython",
    "version": 3
   },
   "file_extension": ".py",
   "mimetype": "text/x-python",
   "name": "python",
   "nbconvert_exporter": "python",
   "pygments_lexer": "ipython3",
   "version": "3.11.5"
  },
  "orig_nbformat": 4
 },
 "nbformat": 4,
 "nbformat_minor": 2
}
